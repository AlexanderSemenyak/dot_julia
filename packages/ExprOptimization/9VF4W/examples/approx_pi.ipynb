{
 "cells": [
  {
   "cell_type": "markdown",
   "metadata": {},
   "source": [
    "# ExprOptimization.jl\n",
    "\n",
    "ExprOptimization.jl is a Julia package for optimizing Julia expressions.  The package implements algorithms to optimize expression trees derived from a grammar to optimize a user-defined objective function.  The package depends on ExprRules.jl.\n",
    "\n",
    "## Installation\n",
    "\n",
    "To install the package:\n",
    "\n",
    "    Pkg.add(\"ExprOptimization\")\n",
    "\n",
    "## Usage\n",
    "\n",
    "To start using the package:"
   ]
  },
  {
   "cell_type": "code",
   "execution_count": 1,
   "metadata": {},
   "outputs": [],
   "source": [
    "using ExprOptimization"
   ]
  },
  {
   "cell_type": "markdown",
   "metadata": {},
   "source": [
    "\n",
    "## Example -- Approximation of π\n",
    "\n",
    "We consider the example of finding an algebraic expression that approximates pi using only functions from a four function calculator.\n",
    "\n",
    "First, we define a grammar:"
   ]
  },
  {
   "cell_type": "code",
   "execution_count": 2,
   "metadata": {},
   "outputs": [
    {
     "data": {
      "text/plain": [
       "1: R = 1\n",
       "2: R = 2\n",
       "3: R = 3\n",
       "4: R = 4\n",
       "5: R = 5\n",
       "6: R = 6\n",
       "7: R = 7\n",
       "8: R = 8\n",
       "9: R = 9\n",
       "10: R = R + R\n",
       "11: R = R - R\n",
       "12: R = R * R\n",
       "13: R = R / R\n"
      ]
     },
     "execution_count": 2,
     "metadata": {},
     "output_type": "execute_result"
    }
   ],
   "source": [
    "grammar = @grammar begin\n",
    "    R = |(1:9)\n",
    "    R = R + R\n",
    "    R = R - R\n",
    "    R = R * R\n",
    "    R = R / R\n",
    "end"
   ]
  },
  {
   "cell_type": "markdown",
   "metadata": {},
   "source": [
    "Next, we define the loss function by overloading the `loss` function in ExprOptimization.  The loss function returns the real-valued loss of a given expression tree.  The loss is minimized."
   ]
  },
  {
   "cell_type": "code",
   "execution_count": 3,
   "metadata": {},
   "outputs": [
    {
     "data": {
      "text/plain": [
       "loss (generic function with 1 method)"
      ]
     },
     "execution_count": 3,
     "metadata": {},
     "output_type": "execute_result"
    }
   ],
   "source": [
    "function loss(tree::RuleNode, grammar::Grammar)\n",
    "    value = Core.eval(tree, grammar)\n",
    "    if isinf(value) || isnan(value)\n",
    "        return Inf\n",
    "    end\n",
    "    Δ = abs(value - π)\n",
    "    return log(Δ) + length(tree) / 1e4\n",
    "end"
   ]
  },
  {
   "cell_type": "markdown",
   "metadata": {},
   "source": [
    "Once these are defined, we can use any of the implemented algorithms to perform the optimization.\n",
    "\n",
    "### Monte Carlo\n",
    "\n",
    "Monte Carlo (MC) draws a number of random expression trees from the grammar and returns the one with the best loss."
   ]
  },
  {
   "cell_type": "code",
   "execution_count": 4,
   "metadata": {},
   "outputs": [
    {
     "name": "stdout",
     "output_type": "stream",
     "text": [
      "search: \u001b[0m\u001b[1mM\u001b[22m\u001b[0m\u001b[1mo\u001b[22m\u001b[0m\u001b[1mn\u001b[22m\u001b[0m\u001b[1mt\u001b[22m\u001b[0m\u001b[1me\u001b[22m\u001b[0m\u001b[1mC\u001b[22m\u001b[0m\u001b[1ma\u001b[22m\u001b[0m\u001b[1mr\u001b[22m\u001b[0m\u001b[1ml\u001b[22m\u001b[0m\u001b[1mo\u001b[22m \u001b[0m\u001b[1mM\u001b[22m\u001b[0m\u001b[1mo\u001b[22m\u001b[0m\u001b[1mn\u001b[22m\u001b[0m\u001b[1mt\u001b[22m\u001b[0m\u001b[1me\u001b[22m\u001b[0m\u001b[1mC\u001b[22m\u001b[0m\u001b[1ma\u001b[22m\u001b[0m\u001b[1mr\u001b[22m\u001b[0m\u001b[1ml\u001b[22m\u001b[0m\u001b[1mo\u001b[22ms\n",
      "\n"
     ]
    },
    {
     "data": {
      "text/markdown": [
       "```\n",
       "MonteCarlo\n",
       "```\n",
       "\n",
       "Monte Carlo.\n",
       "\n",
       "# Arguments:\n",
       "\n",
       "  * `num_samples::Int`: number of samples\n",
       "  * `max_depth::Int`: maximum depth of derivation tree\n"
      ],
      "text/plain": [
       "\u001b[36m  MonteCarlo\u001b[39m\n",
       "\n",
       "  Monte Carlo.\n",
       "\n",
       "\u001b[1m  Arguments:\u001b[22m\n",
       "\u001b[1m  ≡≡≡≡≡≡≡≡≡≡≡≡\u001b[22m\n",
       "\n",
       "    •    \u001b[36mnum_samples::Int\u001b[39m: number of samples\n",
       "\n",
       "    •    \u001b[36mmax_depth::Int\u001b[39m: maximum depth of derivation tree"
      ]
     },
     "execution_count": 4,
     "metadata": {},
     "output_type": "execute_result"
    }
   ],
   "source": [
    "?MonteCarlo"
   ]
  },
  {
   "cell_type": "code",
   "execution_count": 5,
   "metadata": {},
   "outputs": [
    {
     "data": {
      "text/plain": [
       "(:(1 / 7 + 3), 3.142857142857143, 0.0012644892673496777)"
      ]
     },
     "execution_count": 5,
     "metadata": {},
     "output_type": "execute_result"
    }
   ],
   "source": [
    "using Random\n",
    "Random.seed!(3)\n",
    "p = MonteCarlo(400000, 8)\n",
    "results_mc = optimize(p, grammar, :R, loss)\n",
    "(expr, val, err) = (results_mc.expr, Core.eval(Main,results_mc.expr), abs(Core.eval(Main,results_mc.expr)-π))"
   ]
  },
  {
   "cell_type": "code",
   "execution_count": 6,
   "metadata": {},
   "outputs": [
    {
     "data": {
      "image/svg+xml": [
       "<?xml version=\"1.0\" encoding=\"UTF-8\"?>\n",
       "<svg xmlns=\"http://www.w3.org/2000/svg\" xmlns:xlink=\"http://www.w3.org/1999/xlink\" width=\"54.391pt\" height=\"69.157pt\" viewBox=\"0 0 54.391 69.157\" version=\"1.1\">\n",
       "<defs>\n",
       "<g>\n",
       "<symbol overflow=\"visible\" id=\"glyph-1536008871730490-0-0\">\n",
       "<path style=\"stroke:none;\" d=\"\"/>\n",
       "</symbol>\n",
       "<symbol overflow=\"visible\" id=\"glyph-1536008871730490-0-1\">\n",
       "<path style=\"stroke:none;\" d=\"M 4.84375 -3.046875 C 4.84375 -3.40625 4.5 -3.40625 4.375 -3.40625 L 2.953125 -3.40625 L 2.953125 -4.828125 C 2.953125 -4.9375 2.953125 -5.296875 2.609375 -5.296875 C 2.265625 -5.296875 2.265625 -4.9375 2.265625 -4.828125 L 2.265625 -3.40625 L 0.84375 -3.40625 C 0.734375 -3.40625 0.375 -3.40625 0.375 -3.046875 C 0.375 -2.703125 0.734375 -2.703125 0.84375 -2.703125 L 2.265625 -2.703125 L 2.265625 -1.28125 C 2.265625 -1.15625 2.265625 -0.8125 2.609375 -0.8125 C 2.953125 -0.8125 2.953125 -1.15625 2.953125 -1.28125 L 2.953125 -2.703125 L 4.375 -2.703125 C 4.5 -2.703125 4.84375 -2.703125 4.84375 -3.046875 Z M 4.84375 -3.046875 \"/>\n",
       "</symbol>\n",
       "<symbol overflow=\"visible\" id=\"glyph-1536008871730490-0-2\">\n",
       "<path style=\"stroke:none;\" d=\"M 4.640625 -6.5625 C 4.640625 -6.75 4.5 -6.921875 4.296875 -6.921875 C 4.078125 -6.921875 4 -6.765625 3.953125 -6.640625 L 0.65625 0.234375 C 0.59375 0.40625 0.578125 0.40625 0.578125 0.484375 C 0.578125 0.65625 0.734375 0.828125 0.921875 0.828125 C 1.140625 0.828125 1.21875 0.671875 1.28125 0.546875 L 4.5625 -6.328125 C 4.640625 -6.484375 4.640625 -6.484375 4.640625 -6.5625 Z M 4.640625 -6.5625 \"/>\n",
       "</symbol>\n",
       "<symbol overflow=\"visible\" id=\"glyph-1536008871730490-0-3\">\n",
       "<path style=\"stroke:none;\" d=\"M 4.40625 -0.296875 C 4.40625 -0.609375 4.171875 -0.609375 4 -0.609375 L 3.09375 -0.609375 L 3.09375 -5.796875 C 3.09375 -5.953125 3.09375 -6.203125 2.796875 -6.203125 C 2.609375 -6.203125 2.546875 -6.078125 2.5 -5.96875 C 2.125 -5.109375 1.609375 -5 1.421875 -4.984375 C 1.25 -4.96875 1.046875 -4.953125 1.046875 -4.671875 C 1.046875 -4.421875 1.21875 -4.375 1.375 -4.375 C 1.5625 -4.375 1.96875 -4.4375 2.40625 -4.8125 L 2.40625 -0.609375 L 1.5 -0.609375 C 1.34375 -0.609375 1.109375 -0.609375 1.109375 -0.296875 C 1.109375 0 1.359375 0 1.5 0 L 4 0 C 4.15625 0 4.40625 0 4.40625 -0.296875 Z M 4.40625 -0.296875 \"/>\n",
       "</symbol>\n",
       "<symbol overflow=\"visible\" id=\"glyph-1536008871730490-0-4\">\n",
       "<path style=\"stroke:none;\" d=\"M 4.78125 -5.78125 C 4.78125 -6.09375 4.546875 -6.09375 4.390625 -6.09375 L 1.09375 -6.09375 C 1.03125 -6.25 0.859375 -6.25 0.78125 -6.25 C 0.4375 -6.25 0.4375 -6.03125 0.4375 -5.84375 L 0.4375 -5.421875 C 0.4375 -5.234375 0.4375 -5.015625 0.78125 -5.015625 C 1.125 -5.015625 1.125 -5.203125 1.125 -5.484375 L 3.765625 -5.484375 C 2.03125 -3.65625 1.6875 -1.453125 1.6875 -0.359375 C 1.6875 -0.21875 1.6875 0.109375 2.046875 0.109375 C 2.21875 0.109375 2.375 0 2.375 -0.296875 C 2.4375 -3.125 3.953125 -4.859375 4.5625 -5.4375 C 4.765625 -5.625 4.78125 -5.640625 4.78125 -5.78125 Z M 4.78125 -5.78125 \"/>\n",
       "</symbol>\n",
       "<symbol overflow=\"visible\" id=\"glyph-1536008871730490-0-5\">\n",
       "<path style=\"stroke:none;\" d=\"M 4.78125 -1.734375 C 4.78125 -2.4375 4.3125 -3.03125 3.65625 -3.328125 C 4.21875 -3.6875 4.5 -4.25 4.5 -4.796875 C 4.5 -5.53125 3.765625 -6.203125 2.625 -6.203125 C 1.421875 -6.203125 0.734375 -5.71875 0.734375 -5.03125 C 0.734375 -4.703125 0.984375 -4.5625 1.171875 -4.5625 C 1.390625 -4.5625 1.609375 -4.734375 1.609375 -5.015625 C 1.609375 -5.15625 1.5625 -5.25 1.53125 -5.28125 C 1.828125 -5.59375 2.546875 -5.59375 2.625 -5.59375 C 3.3125 -5.59375 3.8125 -5.234375 3.8125 -4.78125 C 3.8125 -4.484375 3.65625 -4.140625 3.390625 -3.921875 C 3.078125 -3.65625 2.828125 -3.640625 2.46875 -3.625 C 1.890625 -3.578125 1.75 -3.578125 1.75 -3.296875 C 1.75 -2.984375 1.984375 -2.984375 2.140625 -2.984375 L 2.609375 -2.984375 C 3.59375 -2.984375 4.09375 -2.3125 4.09375 -1.734375 C 4.09375 -1.125 3.53125 -0.5 2.625 -0.5 C 2.234375 -0.5 1.46875 -0.609375 1.203125 -1.078125 C 1.25 -1.125 1.328125 -1.1875 1.328125 -1.390625 C 1.328125 -1.625 1.140625 -1.828125 0.890625 -1.828125 C 0.65625 -1.828125 0.4375 -1.671875 0.4375 -1.359375 C 0.4375 -0.46875 1.40625 0.109375 2.625 0.109375 C 3.9375 0.109375 4.78125 -0.8125 4.78125 -1.734375 Z M 4.78125 -1.734375 \"/>\n",
       "</symbol>\n",
       "</g>\n",
       "</defs>\n",
       "<g id=\"surface1\">\n",
       "<path style=\"fill:none;stroke-width:0.3985;stroke-linecap:butt;stroke-linejoin:miter;stroke:rgb(0%,0%,0%);stroke-opacity:1;stroke-miterlimit:10;\" d=\"M -3.082781 -6.163906 L -10.274188 -20.546719 \" transform=\"matrix(1,0,0,-1,34.282,5.965)\"/>\n",
       "<path style=\"fill:none;stroke-width:0.31879;stroke-linecap:round;stroke-linejoin:round;stroke:rgb(0%,0%,0%);stroke-opacity:1;stroke-miterlimit:10;\" d=\"M -1.194724 1.5931 C -1.09555 0.994544 0.00063284 0.0984414 0.298169 -0.00074041 C -0.0011089 -0.0981769 -1.095568 -0.99774 -1.196492 -1.596294 \" transform=\"matrix(-0.44899,0.898,0.898,0.44899,24.00954,26.50992)\"/>\n",
       "<path style=\"fill:none;stroke-width:0.3985;stroke-linecap:butt;stroke-linejoin:miter;stroke:rgb(0%,0%,0%);stroke-opacity:1;stroke-miterlimit:10;\" d=\"M 3.081281 -6.163906 L 10.632062 -21.261563 \" transform=\"matrix(1,0,0,-1,34.282,5.965)\"/>\n",
       "<path style=\"fill:none;stroke-width:0.31879;stroke-linecap:round;stroke-linejoin:round;stroke:rgb(0%,0%,0%);stroke-opacity:1;stroke-miterlimit:10;\" d=\"M -1.19554 1.594979 C -1.094621 0.996427 0.00156514 0.100338 0.299101 -0.000580735 C 0.00156514 -0.0997595 -1.094621 -0.995848 -1.1938 -1.5944 \" transform=\"matrix(0.449,0.898,0.898,-0.449,44.9131,27.22724)\"/>\n",
       "<path style=\"fill:none;stroke-width:0.3985;stroke-linecap:butt;stroke-linejoin:miter;stroke:rgb(0%,0%,0%);stroke-opacity:1;stroke-miterlimit:10;\" d=\"M -17.867938 -35.738125 L -24.832781 -49.663906 \" transform=\"matrix(1,0,0,-1,34.282,5.965)\"/>\n",
       "<path style=\"fill:none;stroke-width:0.31879;stroke-linecap:round;stroke-linejoin:round;stroke:rgb(0%,0%,0%);stroke-opacity:1;stroke-miterlimit:10;\" d=\"M -1.196635 1.593109 C -1.093982 0.996293 -0.00127864 0.0984503 0.299738 0.00100847 C 0.00219957 -0.099908 -1.093999 -0.995991 -1.194924 -1.594545 \" transform=\"matrix(-0.44899,0.898,0.898,0.44899,9.45008,55.62882)\"/>\n",
       "<path style=\"fill:none;stroke-width:0.3985;stroke-linecap:butt;stroke-linejoin:miter;stroke:rgb(0%,0%,0%);stroke-opacity:1;stroke-miterlimit:10;\" d=\"M -10.477313 -35.738125 L -3.555438 -49.585781 \" transform=\"matrix(1,0,0,-1,34.282,5.965)\"/>\n",
       "<path style=\"fill:none;stroke-width:0.31879;stroke-linecap:round;stroke-linejoin:round;stroke:rgb(0%,0%,0%);stroke-opacity:1;stroke-miterlimit:10;\" d=\"M -1.193836 1.595321 C -1.096002 0.996118 0.0010909 0.0981959 0.298073 0.00211634 C -0.000654304 -0.0974625 -1.095984 -0.995405 -1.193808 -1.592862 \" transform=\"matrix(0.4472,0.89442,0.89442,-0.4472,30.72809,55.55075)\"/>\n",
       "<g style=\"fill:rgb(0%,0%,0%);fill-opacity:1;\">\n",
       "  <use xlink:href=\"#glyph-1536008871730490-0-1\" x=\"31.667\" y=\"8.611\"/>\n",
       "</g>\n",
       "<g style=\"fill:rgb(0%,0%,0%);fill-opacity:1;\">\n",
       "  <use xlink:href=\"#glyph-1536008871730490-0-2\" x=\"17.494\" y=\"37.356\"/>\n",
       "</g>\n",
       "<g style=\"fill:rgb(0%,0%,0%);fill-opacity:1;\">\n",
       "  <use xlink:href=\"#glyph-1536008871730490-0-3\" x=\"3.321\" y=\"65.757\"/>\n",
       "</g>\n",
       "<g style=\"fill:rgb(0%,0%,0%);fill-opacity:1;\">\n",
       "  <use xlink:href=\"#glyph-1536008871730490-0-4\" x=\"31.667\" y=\"65.727\"/>\n",
       "</g>\n",
       "<g style=\"fill:rgb(0%,0%,0%);fill-opacity:1;\">\n",
       "  <use xlink:href=\"#glyph-1536008871730490-0-5\" x=\"45.84\" y=\"37.356\"/>\n",
       "</g>\n",
       "</g>\n",
       "</svg>\n",
       "\n"
      ],
      "text/plain": [
       "TreeView.LabelledTree({5, 4} directed simple Int64 graph, Any[:+, :/, 1, 7, 3])"
      ]
     },
     "execution_count": 6,
     "metadata": {},
     "output_type": "execute_result"
    }
   ],
   "source": [
    "display(results_mc.tree, grammar)"
   ]
  },
  {
   "cell_type": "markdown",
   "metadata": {},
   "source": [
    "## Genetic Programming\n",
    "\n",
    "Genetic Programming (GP) is an evolutionary algorithm for trees.\n",
    "\n",
    "See: Koza, \"Genetic Programming: On the Programming of Computers by Means of Natural Selection\", MIT Press, 1992."
   ]
  },
  {
   "cell_type": "code",
   "execution_count": 7,
   "metadata": {},
   "outputs": [
    {
     "name": "stdout",
     "output_type": "stream",
     "text": [
      "search: \u001b[0m\u001b[1mG\u001b[22m\u001b[0m\u001b[1me\u001b[22m\u001b[0m\u001b[1mn\u001b[22m\u001b[0m\u001b[1me\u001b[22m\u001b[0m\u001b[1mt\u001b[22m\u001b[0m\u001b[1mi\u001b[22m\u001b[0m\u001b[1mc\u001b[22m\u001b[0m\u001b[1mP\u001b[22m\u001b[0m\u001b[1mr\u001b[22m\u001b[0m\u001b[1mo\u001b[22m\u001b[0m\u001b[1mg\u001b[22m\u001b[0m\u001b[1mr\u001b[22m\u001b[0m\u001b[1ma\u001b[22m\u001b[0m\u001b[1mm\u001b[22m \u001b[0m\u001b[1mG\u001b[22m\u001b[0m\u001b[1me\u001b[22m\u001b[0m\u001b[1mn\u001b[22m\u001b[0m\u001b[1me\u001b[22m\u001b[0m\u001b[1mt\u001b[22m\u001b[0m\u001b[1mi\u001b[22m\u001b[0m\u001b[1mc\u001b[22m\u001b[0m\u001b[1mP\u001b[22m\u001b[0m\u001b[1mr\u001b[22m\u001b[0m\u001b[1mo\u001b[22m\u001b[0m\u001b[1mg\u001b[22m\u001b[0m\u001b[1mr\u001b[22m\u001b[0m\u001b[1ma\u001b[22m\u001b[0m\u001b[1mm\u001b[22ms\n",
      "\n"
     ]
    },
    {
     "data": {
      "text/markdown": [
       "```\n",
       "GeneticProgram\n",
       "```\n",
       "\n",
       "Genetic Programming.\n",
       "\n",
       "# Arguments\n",
       "\n",
       "  * `pop_size::Int`: population size\n",
       "  * `iterations::Int`: number of iterations\n",
       "  * `max_depth::Int`: maximum depth of derivation tree\n",
       "  * `p_reproduction::Float64`: probability of reproduction operator\n",
       "  * `p_crossover::Float64`: probability of crossover operator\n",
       "  * `p_mutation::Float64`: probability of mutation operator\n",
       "  * `init_method::InitializationMethod`: initialization method\n",
       "  * `select_method::SelectionMethod`: selection method\n"
      ],
      "text/plain": [
       "\u001b[36m  GeneticProgram\u001b[39m\n",
       "\n",
       "  Genetic Programming.\n",
       "\n",
       "\u001b[1m  Arguments\u001b[22m\n",
       "\u001b[1m  ≡≡≡≡≡≡≡≡≡≡≡\u001b[22m\n",
       "\n",
       "    •    \u001b[36mpop_size::Int\u001b[39m: population size\n",
       "\n",
       "    •    \u001b[36miterations::Int\u001b[39m: number of iterations\n",
       "\n",
       "    •    \u001b[36mmax_depth::Int\u001b[39m: maximum depth of derivation tree\n",
       "\n",
       "    •    \u001b[36mp_reproduction::Float64\u001b[39m: probability of reproduction operator\n",
       "\n",
       "    •    \u001b[36mp_crossover::Float64\u001b[39m: probability of crossover operator\n",
       "\n",
       "    •    \u001b[36mp_mutation::Float64\u001b[39m: probability of mutation operator\n",
       "\n",
       "    •    \u001b[36minit_method::InitializationMethod\u001b[39m: initialization method\n",
       "\n",
       "    •    \u001b[36mselect_method::SelectionMethod\u001b[39m: selection method"
      ]
     },
     "execution_count": 7,
     "metadata": {},
     "output_type": "execute_result"
    }
   ],
   "source": [
    "?GeneticProgram"
   ]
  },
  {
   "cell_type": "code",
   "execution_count": 8,
   "metadata": {},
   "outputs": [
    {
     "data": {
      "text/plain": [
       "(:(2 + 7 / ((9 / 7) / 5 - (4 - (7 / 8 + 9)))), 3.141525917297612, 6.673629218090227e-5)"
      ]
     },
     "execution_count": 8,
     "metadata": {},
     "output_type": "execute_result"
    }
   ],
   "source": [
    "Random.seed!(3)\n",
    "p = GeneticProgram(5000,80,8,0.2,0.4,0.4; select_method=GeneticPrograms.TruncationSelection(100))\n",
    "results_gp = optimize(p, grammar, :R, loss)\n",
    "(expr, val, err) = (results_gp.expr, eval(results_gp.expr), abs(eval(results_gp.expr)-π))"
   ]
  },
  {
   "cell_type": "code",
   "execution_count": 9,
   "metadata": {},
   "outputs": [
    {
     "data": {
      "image/svg+xml": [
       "<?xml version=\"1.0\" encoding=\"UTF-8\"?>\n",
       "<svg xmlns=\"http://www.w3.org/2000/svg\" xmlns:xlink=\"http://www.w3.org/1999/xlink\" width=\"111.084pt\" height=\"182.543pt\" viewBox=\"0 0 111.084 182.543\" version=\"1.1\">\n",
       "<defs>\n",
       "<g>\n",
       "<symbol overflow=\"visible\" id=\"glyph-1536008871730491-0-0\">\n",
       "<path style=\"stroke:none;\" d=\"\"/>\n",
       "</symbol>\n",
       "<symbol overflow=\"visible\" id=\"glyph-1536008871730491-0-1\">\n",
       "<path style=\"stroke:none;\" d=\"M 4.84375 -3.046875 C 4.84375 -3.40625 4.5 -3.40625 4.375 -3.40625 L 2.953125 -3.40625 L 2.953125 -4.828125 C 2.953125 -4.9375 2.953125 -5.296875 2.609375 -5.296875 C 2.265625 -5.296875 2.265625 -4.9375 2.265625 -4.828125 L 2.265625 -3.40625 L 0.84375 -3.40625 C 0.734375 -3.40625 0.375 -3.40625 0.375 -3.046875 C 0.375 -2.703125 0.734375 -2.703125 0.84375 -2.703125 L 2.265625 -2.703125 L 2.265625 -1.28125 C 2.265625 -1.15625 2.265625 -0.8125 2.609375 -0.8125 C 2.953125 -0.8125 2.953125 -1.15625 2.953125 -1.28125 L 2.953125 -2.703125 L 4.375 -2.703125 C 4.5 -2.703125 4.84375 -2.703125 4.84375 -3.046875 Z M 4.84375 -3.046875 \"/>\n",
       "</symbol>\n",
       "<symbol overflow=\"visible\" id=\"glyph-1536008871730491-0-2\">\n",
       "<path style=\"stroke:none;\" d=\"M 4.703125 -0.40625 L 4.703125 -0.671875 C 4.703125 -0.859375 4.703125 -1.078125 4.359375 -1.078125 C 4.015625 -1.078125 4.015625 -0.890625 4.015625 -0.609375 L 1.640625 -0.609375 C 2.234375 -1.109375 3.1875 -1.859375 3.625 -2.265625 C 4.25 -2.828125 4.703125 -3.453125 4.703125 -4.25 C 4.703125 -5.453125 3.703125 -6.203125 2.484375 -6.203125 C 1.3125 -6.203125 0.515625 -5.390625 0.515625 -4.53125 C 0.515625 -4.171875 0.796875 -4.0625 0.96875 -4.0625 C 1.171875 -4.0625 1.40625 -4.234375 1.40625 -4.5 C 1.40625 -4.625 1.359375 -4.75 1.265625 -4.828125 C 1.421875 -5.28125 1.890625 -5.59375 2.4375 -5.59375 C 3.25 -5.59375 4.015625 -5.140625 4.015625 -4.25 C 4.015625 -3.5625 3.53125 -2.984375 2.875 -2.4375 L 0.671875 -0.578125 C 0.578125 -0.5 0.515625 -0.453125 0.515625 -0.3125 C 0.515625 0 0.765625 0 0.921875 0 L 4.3125 0 C 4.640625 0 4.703125 -0.09375 4.703125 -0.40625 Z M 4.703125 -0.40625 \"/>\n",
       "</symbol>\n",
       "<symbol overflow=\"visible\" id=\"glyph-1536008871730491-0-3\">\n",
       "<path style=\"stroke:none;\" d=\"M 4.640625 -6.5625 C 4.640625 -6.75 4.5 -6.921875 4.296875 -6.921875 C 4.078125 -6.921875 4 -6.765625 3.953125 -6.640625 L 0.65625 0.234375 C 0.59375 0.40625 0.578125 0.40625 0.578125 0.484375 C 0.578125 0.65625 0.734375 0.828125 0.921875 0.828125 C 1.140625 0.828125 1.21875 0.671875 1.28125 0.546875 L 4.5625 -6.328125 C 4.640625 -6.484375 4.640625 -6.484375 4.640625 -6.5625 Z M 4.640625 -6.5625 \"/>\n",
       "</symbol>\n",
       "<symbol overflow=\"visible\" id=\"glyph-1536008871730491-0-4\">\n",
       "<path style=\"stroke:none;\" d=\"M 4.78125 -5.78125 C 4.78125 -6.09375 4.546875 -6.09375 4.390625 -6.09375 L 1.09375 -6.09375 C 1.03125 -6.25 0.859375 -6.25 0.78125 -6.25 C 0.4375 -6.25 0.4375 -6.03125 0.4375 -5.84375 L 0.4375 -5.421875 C 0.4375 -5.234375 0.4375 -5.015625 0.78125 -5.015625 C 1.125 -5.015625 1.125 -5.203125 1.125 -5.484375 L 3.765625 -5.484375 C 2.03125 -3.65625 1.6875 -1.453125 1.6875 -0.359375 C 1.6875 -0.21875 1.6875 0.109375 2.046875 0.109375 C 2.21875 0.109375 2.375 0 2.375 -0.296875 C 2.4375 -3.125 3.953125 -4.859375 4.5625 -5.4375 C 4.765625 -5.625 4.78125 -5.640625 4.78125 -5.78125 Z M 4.78125 -5.78125 \"/>\n",
       "</symbol>\n",
       "<symbol overflow=\"visible\" id=\"glyph-1536008871730491-0-5\">\n",
       "<path style=\"stroke:none;\" d=\"M 4.671875 -3.046875 C 4.671875 -3.40625 4.3125 -3.40625 4.203125 -3.40625 L 1.03125 -3.40625 C 0.90625 -3.40625 0.5625 -3.40625 0.5625 -3.046875 C 0.5625 -2.703125 0.90625 -2.703125 1.03125 -2.703125 L 4.203125 -2.703125 C 4.3125 -2.703125 4.671875 -2.703125 4.671875 -3.046875 Z M 4.671875 -3.046875 \"/>\n",
       "</symbol>\n",
       "<symbol overflow=\"visible\" id=\"glyph-1536008871730491-0-6\">\n",
       "<path style=\"stroke:none;\" d=\"M 4.6875 -3.109375 C 4.6875 -5.515625 3.59375 -6.203125 2.640625 -6.203125 C 1.53125 -6.203125 0.53125 -5.375 0.53125 -4.171875 C 0.53125 -3.03125 1.40625 -2.140625 2.5 -2.140625 C 3.015625 -2.140625 3.53125 -2.3125 3.984375 -2.71875 C 3.890625 -1.484375 3.109375 -0.5 2.15625 -0.5 C 2.0625 -0.5 1.703125 -0.515625 1.5 -0.671875 C 1.53125 -0.71875 1.578125 -0.78125 1.578125 -0.953125 C 1.578125 -1.1875 1.40625 -1.390625 1.140625 -1.390625 C 0.890625 -1.390625 0.703125 -1.21875 0.703125 -0.921875 C 0.703125 -0.59375 0.875 0.109375 2.15625 0.109375 C 3.46875 0.109375 4.6875 -1.140625 4.6875 -3.109375 Z M 3.921875 -3.875 C 3.921875 -3.328125 3.375 -2.765625 2.546875 -2.765625 C 1.75 -2.765625 1.21875 -3.421875 1.21875 -4.171875 C 1.21875 -5.03125 1.921875 -5.59375 2.640625 -5.59375 C 3.078125 -5.59375 3.34375 -5.359375 3.515625 -5.15625 C 3.828125 -4.78125 3.921875 -4.578125 3.921875 -3.875 Z M 3.921875 -3.875 \"/>\n",
       "</symbol>\n",
       "<symbol overflow=\"visible\" id=\"glyph-1536008871730491-0-7\">\n",
       "<path style=\"stroke:none;\" d=\"M 4.703125 -1.890625 C 4.703125 -2.90625 3.9375 -3.875 2.765625 -3.875 C 2.40625 -3.875 1.96875 -3.8125 1.5625 -3.59375 L 1.5625 -5.484375 L 3.953125 -5.484375 C 4.109375 -5.484375 4.359375 -5.484375 4.359375 -5.78125 C 4.359375 -6.09375 4.109375 -6.09375 3.953125 -6.09375 L 1.28125 -6.09375 C 0.953125 -6.09375 0.875 -6 0.875 -5.6875 L 0.875 -3.03125 C 0.875 -2.84375 0.875 -2.625 1.203125 -2.625 C 1.375 -2.625 1.421875 -2.671875 1.5 -2.765625 C 1.765625 -3.09375 2.171875 -3.265625 2.75 -3.265625 C 3.5625 -3.265625 4.015625 -2.546875 4.015625 -1.890625 C 4.015625 -1.09375 3.3125 -0.5 2.46875 -0.5 C 2.1875 -0.5 1.5625 -0.578125 1.28125 -1.125 C 1.328125 -1.171875 1.40625 -1.25 1.40625 -1.453125 C 1.40625 -1.734375 1.171875 -1.890625 0.96875 -1.890625 C 0.8125 -1.890625 0.515625 -1.796875 0.515625 -1.421875 C 0.515625 -0.59375 1.359375 0.109375 2.46875 0.109375 C 3.71875 0.109375 4.703125 -0.78125 4.703125 -1.890625 Z M 4.703125 -1.890625 \"/>\n",
       "</symbol>\n",
       "<symbol overflow=\"visible\" id=\"glyph-1536008871730491-0-8\">\n",
       "<path style=\"stroke:none;\" d=\"M 4.9375 -1.984375 C 4.9375 -2.296875 4.6875 -2.296875 4.53125 -2.296875 L 3.765625 -2.296875 L 3.765625 -5.796875 C 3.765625 -6.125 3.6875 -6.203125 3.34375 -6.203125 L 3.078125 -6.203125 C 2.828125 -6.203125 2.78125 -6.203125 2.65625 -6 L 0.375 -2.4375 C 0.296875 -2.296875 0.296875 -2.28125 0.296875 -2.078125 C 0.296875 -1.75 0.375 -1.6875 0.6875 -1.6875 L 3.203125 -1.6875 L 3.203125 -0.609375 L 2.578125 -0.609375 C 2.421875 -0.609375 2.1875 -0.609375 2.1875 -0.296875 C 2.1875 0 2.4375 0 2.578125 0 L 4.375 0 C 4.53125 0 4.78125 0 4.78125 -0.296875 C 4.78125 -0.609375 4.53125 -0.609375 4.375 -0.609375 L 3.765625 -0.609375 L 3.765625 -1.6875 L 4.53125 -1.6875 C 4.6875 -1.6875 4.9375 -1.6875 4.9375 -1.984375 Z M 3.203125 -2.296875 L 0.984375 -2.296875 L 3.203125 -5.765625 Z M 3.203125 -2.296875 \"/>\n",
       "</symbol>\n",
       "<symbol overflow=\"visible\" id=\"glyph-1536008871730491-0-9\">\n",
       "<path style=\"stroke:none;\" d=\"M 4.78125 -1.734375 C 4.78125 -2.484375 4.140625 -3.078125 3.40625 -3.28125 C 4.203125 -3.546875 4.640625 -4.03125 4.640625 -4.609375 C 4.640625 -5.421875 3.796875 -6.203125 2.609375 -6.203125 C 1.421875 -6.203125 0.578125 -5.40625 0.578125 -4.609375 C 0.578125 -4.03125 1.03125 -3.53125 1.828125 -3.28125 C 1.078125 -3.078125 0.4375 -2.484375 0.4375 -1.734375 C 0.4375 -0.765625 1.359375 0.109375 2.609375 0.109375 C 3.875 0.109375 4.78125 -0.765625 4.78125 -1.734375 Z M 3.953125 -4.59375 C 3.953125 -4.03125 3.34375 -3.59375 2.609375 -3.59375 C 1.890625 -3.59375 1.265625 -4.03125 1.265625 -4.59375 C 1.265625 -5.109375 1.828125 -5.59375 2.609375 -5.59375 C 3.390625 -5.59375 3.953125 -5.109375 3.953125 -4.59375 Z M 4.09375 -1.75 C 4.09375 -1.0625 3.4375 -0.5 2.609375 -0.5 C 1.78125 -0.5 1.125 -1.0625 1.125 -1.75 C 1.125 -2.359375 1.703125 -2.984375 2.609375 -2.984375 C 3.53125 -2.984375 4.09375 -2.359375 4.09375 -1.75 Z M 4.09375 -1.75 \"/>\n",
       "</symbol>\n",
       "</g>\n",
       "</defs>\n",
       "<g id=\"surface1\">\n",
       "<path style=\"fill:none;stroke-width:0.3985;stroke-linecap:butt;stroke-linejoin:miter;stroke:rgb(0%,0%,0%);stroke-opacity:1;stroke-miterlimit:10;\" d=\"M -3.082781 -6.166813 L -10.657 -21.31525 \" transform=\"matrix(1,0,0,-1,34.282,5.966)\"/>\n",
       "<path style=\"fill:none;stroke-width:0.31879;stroke-linecap:round;stroke-linejoin:round;stroke:rgb(0%,0%,0%);stroke-opacity:1;stroke-miterlimit:10;\" d=\"M -1.19413 1.592628 C -1.096691 0.997555 -0.000505011 0.101467 0.298771 -0.00119209 C -0.000505011 -0.0986308 -1.096691 -0.994719 -1.19761 -1.593272 \" transform=\"matrix(-0.449,0.898,0.898,0.449,23.6235,27.28302)\"/>\n",
       "<path style=\"fill:none;stroke-width:0.3985;stroke-linecap:butt;stroke-linejoin:miter;stroke:rgb(0%,0%,0%);stroke-opacity:1;stroke-miterlimit:10;\" d=\"M 3.081281 -6.166813 L 10.272687 -20.545719 \" transform=\"matrix(1,0,0,-1,34.282,5.966)\"/>\n",
       "<path style=\"fill:none;stroke-width:0.31879;stroke-linecap:round;stroke-linejoin:round;stroke:rgb(0%,0%,0%);stroke-opacity:1;stroke-miterlimit:10;\" d=\"M -1.194571 1.593663 C -1.097127 0.996849 -0.000927962 0.100766 0.29661 -0.000150476 C -0.000926179 -0.0993323 -1.097109 -0.995435 -1.196283 -1.59399 \" transform=\"matrix(0.44899,0.898,0.898,-0.44899,44.55446,26.51092)\"/>\n",
       "<path style=\"fill:none;stroke-width:0.3985;stroke-linecap:butt;stroke-linejoin:miter;stroke:rgb(0%,0%,0%);stroke-opacity:1;stroke-miterlimit:10;\" d=\"M 10.479719 -35.737125 L 3.553937 -49.584781 \" transform=\"matrix(1,0,0,-1,34.282,5.966)\"/>\n",
       "<path style=\"fill:none;stroke-width:0.31879;stroke-linecap:round;stroke-linejoin:round;stroke:rgb(0%,0%,0%);stroke-opacity:1;stroke-miterlimit:10;\" d=\"M -1.195778 1.594567 C -1.097954 0.99711 0.000869067 0.100914 0.299597 0.00133562 C 0.00086727 -0.0999848 -1.096225 -0.997907 -1.195807 -1.593616 \" transform=\"matrix(-0.4472,0.89442,0.89442,0.4472,37.83591,55.55175)\"/>\n",
       "<path style=\"fill:none;stroke-width:0.3985;stroke-linecap:butt;stroke-linejoin:miter;stroke:rgb(0%,0%,0%);stroke-opacity:1;stroke-miterlimit:10;\" d=\"M 17.870344 -35.737125 L 25.5305 -51.06525 \" transform=\"matrix(1,0,0,-1,34.282,5.966)\"/>\n",
       "<path style=\"fill:none;stroke-width:0.31879;stroke-linecap:round;stroke-linejoin:round;stroke:rgb(0%,0%,0%);stroke-opacity:1;stroke-miterlimit:10;\" d=\"M -1.194519 1.591898 C -1.097063 0.99508 -0.000838403 0.0990091 0.298444 0.00157704 C -0.000833055 -0.101091 -1.09701 -0.997221 -1.196174 -1.595784 \" transform=\"matrix(0.44897,0.898,0.898,-0.44897,59.81381,57.02958)\"/>\n",
       "<path style=\"fill:none;stroke-width:0.3985;stroke-linecap:butt;stroke-linejoin:miter;stroke:rgb(0%,0%,0%);stroke-opacity:1;stroke-miterlimit:10;\" d=\"M 25.737531 -61.912906 L 18.073469 -77.237125 \" transform=\"matrix(1,0,0,-1,34.282,5.966)\"/>\n",
       "<path style=\"fill:none;stroke-width:0.31879;stroke-linecap:round;stroke-linejoin:round;stroke:rgb(0%,0%,0%);stroke-opacity:1;stroke-miterlimit:10;\" d=\"M -1.194475 1.594238 C -1.095311 0.995675 0.000865701 0.0995447 0.298403 0.000356729 C 0.000860353 -0.100555 -1.095364 -0.996627 -1.1963 -1.595184 \" transform=\"matrix(-0.44897,0.898,0.898,0.44897,52.35631,83.20453)\"/>\n",
       "<path style=\"fill:none;stroke-width:0.3985;stroke-linecap:butt;stroke-linejoin:miter;stroke:rgb(0%,0%,0%);stroke-opacity:1;stroke-miterlimit:10;\" d=\"M 30.956281 -61.912906 L 39.706281 -79.412906 \" transform=\"matrix(1,0,0,-1,34.282,5.966)\"/>\n",
       "<path style=\"fill:none;stroke-width:0.31879;stroke-linecap:round;stroke-linejoin:round;stroke:rgb(0%,0%,0%);stroke-opacity:1;stroke-miterlimit:10;\" d=\"M -1.194002 1.593074 C -1.094432 0.997369 -0.000858866 0.101182 0.297866 -0.000142978 C -0.000860663 -0.0997156 -1.096197 -0.99763 -1.19403 -1.595081 \" transform=\"matrix(0.44722,0.89442,0.89442,-0.44722,73.98801,85.37805)\"/>\n",
       "<path style=\"fill:none;stroke-width:0.3985;stroke-linecap:butt;stroke-linejoin:miter;stroke:rgb(0%,0%,0%);stroke-opacity:1;stroke-miterlimit:10;\" d=\"M 8.038312 -91.174625 L -7.715594 -106.928531 \" transform=\"matrix(1,0,0,-1,34.282,5.966)\"/>\n",
       "<path style=\"fill:none;stroke-width:0.31879;stroke-linecap:round;stroke-linejoin:round;stroke:rgb(0%,0%,0%);stroke-opacity:1;stroke-miterlimit:10;\" d=\"M -1.194845 1.593146 C -1.095402 0.996516 0.0011908 0.0988145 0.299507 -0.000621914 C 0.0011922 -0.100063 -1.095388 -0.997779 -1.194822 -1.594411 \" transform=\"matrix(-0.7071,0.70709,0.70709,0.7071,26.56769,112.89413)\"/>\n",
       "<path style=\"fill:none;stroke-width:0.3985;stroke-linecap:butt;stroke-linejoin:miter;stroke:rgb(0%,0%,0%);stroke-opacity:1;stroke-miterlimit:10;\" d=\"M 14.175031 -92.432438 L 14.175031 -106.311344 \" transform=\"matrix(1,0,0,-1,34.282,5.966)\"/>\n",
       "<path style=\"fill:none;stroke-width:0.31879;stroke-linecap:round;stroke-linejoin:round;stroke:rgb(0%,0%,0%);stroke-opacity:1;stroke-miterlimit:10;\" d=\"M -1.194669 1.595391 C -1.097012 0.997735 0.00064375 0.0992975 0.297519 0.00164125 C 0.00064375 -0.0999213 -1.097012 -0.994453 -1.194669 -1.592109 \" transform=\"matrix(0,1,1,0,48.45539,112.2767)\"/>\n",
       "<path style=\"fill:none;stroke-width:0.3985;stroke-linecap:butt;stroke-linejoin:miter;stroke:rgb(0%,0%,0%);stroke-opacity:1;stroke-miterlimit:10;\" d=\"M -17.867938 -120.776188 L -24.805438 -134.651188 \" transform=\"matrix(1,0,0,-1,34.282,5.966)\"/>\n",
       "<path style=\"fill:none;stroke-width:0.31879;stroke-linecap:round;stroke-linejoin:round;stroke:rgb(0%,0%,0%);stroke-opacity:1;stroke-miterlimit:10;\" d=\"M -1.195144 1.593852 C -1.09598 0.995289 0.000196973 0.0991589 0.297734 -0.0000291158 C 0.000191626 -0.100941 -1.096033 -0.997012 -1.193489 -1.59383 \" transform=\"matrix(-0.44897,0.898,0.898,0.44897,9.47745,140.61546)\"/>\n",
       "<path style=\"fill:none;stroke-width:0.3985;stroke-linecap:butt;stroke-linejoin:miter;stroke:rgb(0%,0%,0%);stroke-opacity:1;stroke-miterlimit:10;\" d=\"M -10.477313 -120.776188 L -3.555438 -134.62775 \" transform=\"matrix(1,0,0,-1,34.282,5.966)\"/>\n",
       "<path style=\"fill:none;stroke-width:0.31879;stroke-linecap:round;stroke-linejoin:round;stroke:rgb(0%,0%,0%);stroke-opacity:1;stroke-miterlimit:10;\" d=\"M -1.195963 1.596385 C -1.094634 0.995435 -0.00103564 0.0992592 0.299441 0.00143266 C 0.000713074 -0.0981462 -1.094617 -0.996088 -1.195934 -1.591799 \" transform=\"matrix(0.4472,0.89442,0.89442,-0.4472,30.72809,140.59219)\"/>\n",
       "<path style=\"fill:none;stroke-width:0.3985;stroke-linecap:butt;stroke-linejoin:miter;stroke:rgb(0%,0%,0%);stroke-opacity:1;stroke-miterlimit:10;\" d=\"M 42.518781 -90.260563 L 42.518781 -106.307438 \" transform=\"matrix(1,0,0,-1,34.282,5.966)\"/>\n",
       "<path style=\"fill:none;stroke-width:0.31879;stroke-linecap:round;stroke-linejoin:round;stroke:rgb(0%,0%,0%);stroke-opacity:1;stroke-miterlimit:10;\" d=\"M -1.193605 1.592331 C -1.095949 0.994675 0.0017075 0.100144 0.298583 -0.00141875 C 0.0017075 -0.099075 -1.095949 -0.997512 -1.193605 -1.595169 \" transform=\"matrix(0,1,1,0,76.8022,112.27173)\"/>\n",
       "<path style=\"fill:none;stroke-width:0.3985;stroke-linecap:butt;stroke-linejoin:miter;stroke:rgb(0%,0%,0%);stroke-opacity:1;stroke-miterlimit:10;\" d=\"M 47.737531 -90.260563 L 64.409406 -106.928531 \" transform=\"matrix(1,0,0,-1,34.282,5.966)\"/>\n",
       "<path style=\"fill:none;stroke-width:0.31879;stroke-linecap:round;stroke-linejoin:round;stroke:rgb(0%,0%,0%);stroke-opacity:1;stroke-miterlimit:10;\" d=\"M -1.194675 1.594542 C -1.095237 0.997915 0.00134175 0.100212 0.299655 0.000774289 C 0.00134175 -0.0986636 -1.095237 -0.996366 -1.194675 -1.592993 \" transform=\"matrix(0.7071,0.7071,0.7071,-0.7071,98.68991,112.89413)\"/>\n",
       "<path style=\"fill:none;stroke-width:0.3985;stroke-linecap:butt;stroke-linejoin:miter;stroke:rgb(0%,0%,0%);stroke-opacity:1;stroke-miterlimit:10;\" d=\"M 64.733625 -119.522281 L 48.979719 -135.276188 \" transform=\"matrix(1,0,0,-1,34.282,5.966)\"/>\n",
       "<path style=\"fill:none;stroke-width:0.31879;stroke-linecap:round;stroke-linejoin:round;stroke:rgb(0%,0%,0%);stroke-opacity:1;stroke-miterlimit:10;\" d=\"M -1.19542 1.594973 C -1.095986 0.998341 0.000593807 0.100624 0.298909 0.00118319 C 0.000592401 -0.0982532 -1.096 -0.995955 -1.195443 -1.592585 \" transform=\"matrix(-0.70709,0.7071,0.7071,0.70709,83.2613,141.24093)\"/>\n",
       "<path style=\"fill:none;stroke-width:0.3985;stroke-linecap:butt;stroke-linejoin:miter;stroke:rgb(0%,0%,0%);stroke-opacity:1;stroke-miterlimit:10;\" d=\"M 70.866437 -119.553531 L 70.866437 -134.604313 \" transform=\"matrix(1,0,0,-1,34.282,5.966)\"/>\n",
       "<path style=\"fill:none;stroke-width:0.31879;stroke-linecap:round;stroke-linejoin:round;stroke:rgb(0%,0%,0%);stroke-opacity:1;stroke-miterlimit:10;\" d=\"M -1.19372 1.593187 C -1.096064 0.995531 0.0015925 0.101 0.298468 -0.0005625 C 0.0015925 -0.0982188 -1.096064 -0.996656 -1.19372 -1.594313 \" transform=\"matrix(0,1,1,0,105.149,140.56872)\"/>\n",
       "<path style=\"fill:none;stroke-width:0.3985;stroke-linecap:butt;stroke-linejoin:miter;stroke:rgb(0%,0%,0%);stroke-opacity:1;stroke-miterlimit:10;\" d=\"M 38.823469 -149.123844 L 31.901594 -162.9715 \" transform=\"matrix(1,0,0,-1,34.282,5.966)\"/>\n",
       "<path style=\"fill:none;stroke-width:0.31879;stroke-linecap:round;stroke-linejoin:round;stroke:rgb(0%,0%,0%);stroke-opacity:1;stroke-miterlimit:10;\" d=\"M -1.196619 1.595105 C -1.093554 0.9959 0.0000288586 0.101452 0.298756 0.00187285 C 0.0000270617 -0.0994476 -1.097066 -0.99737 -1.196647 -1.593079 \" transform=\"matrix(-0.4472,0.89442,0.89442,0.4472,66.18271,168.93898)\"/>\n",
       "<path style=\"fill:none;stroke-width:0.3985;stroke-linecap:butt;stroke-linejoin:miter;stroke:rgb(0%,0%,0%);stroke-opacity:1;stroke-miterlimit:10;\" d=\"M 46.214094 -149.123844 L 53.151594 -162.994938 \" transform=\"matrix(1,0,0,-1,34.282,5.966)\"/>\n",
       "<path style=\"fill:none;stroke-width:0.31879;stroke-linecap:round;stroke-linejoin:round;stroke:rgb(0%,0%,0%);stroke-opacity:1;stroke-miterlimit:10;\" d=\"M -1.196488 1.594624 C -1.095552 0.996066 0.000672169 0.0999952 0.298215 -0.000916875 C 0.000677517 -0.100105 -1.095499 -0.996235 -1.194663 -1.594798 \" transform=\"matrix(0.44897,0.898,0.898,-0.44897,87.43334,168.96226)\"/>\n",
       "<g style=\"fill:rgb(0%,0%,0%);fill-opacity:1;\">\n",
       "  <use xlink:href=\"#glyph-1536008871730491-0-1\" x=\"31.667\" y=\"8.611\"/>\n",
       "</g>\n",
       "<g style=\"fill:rgb(0%,0%,0%);fill-opacity:1;\">\n",
       "  <use xlink:href=\"#glyph-1536008871730491-0-2\" x=\"17.494\" y=\"37.411\"/>\n",
       "</g>\n",
       "<g style=\"fill:rgb(0%,0%,0%);fill-opacity:1;\">\n",
       "  <use xlink:href=\"#glyph-1536008871730491-0-3\" x=\"45.84\" y=\"37.356\"/>\n",
       "</g>\n",
       "<g style=\"fill:rgb(0%,0%,0%);fill-opacity:1;\">\n",
       "  <use xlink:href=\"#glyph-1536008871730491-0-4\" x=\"31.667\" y=\"65.727\"/>\n",
       "</g>\n",
       "<g style=\"fill:rgb(0%,0%,0%);fill-opacity:1;\">\n",
       "  <use xlink:href=\"#glyph-1536008871730491-0-5\" x=\"60.013\" y=\"64.357\"/>\n",
       "</g>\n",
       "<g style=\"fill:rgb(0%,0%,0%);fill-opacity:1;\">\n",
       "  <use xlink:href=\"#glyph-1536008871730491-0-3\" x=\"45.84\" y=\"94.049\"/>\n",
       "</g>\n",
       "<g style=\"fill:rgb(0%,0%,0%);fill-opacity:1;\">\n",
       "  <use xlink:href=\"#glyph-1536008871730491-0-3\" x=\"17.494\" y=\"122.395\"/>\n",
       "</g>\n",
       "<g style=\"fill:rgb(0%,0%,0%);fill-opacity:1;\">\n",
       "  <use xlink:href=\"#glyph-1536008871730491-0-6\" x=\"3.321\" y=\"150.742\"/>\n",
       "</g>\n",
       "<g style=\"fill:rgb(0%,0%,0%);fill-opacity:1;\">\n",
       "  <use xlink:href=\"#glyph-1536008871730491-0-4\" x=\"31.667\" y=\"150.766\"/>\n",
       "</g>\n",
       "<g style=\"fill:rgb(0%,0%,0%);fill-opacity:1;\">\n",
       "  <use xlink:href=\"#glyph-1536008871730491-0-7\" x=\"45.84\" y=\"122.34\"/>\n",
       "</g>\n",
       "<g style=\"fill:rgb(0%,0%,0%);fill-opacity:1;\">\n",
       "  <use xlink:href=\"#glyph-1536008871730491-0-5\" x=\"74.187\" y=\"92.704\"/>\n",
       "</g>\n",
       "<g style=\"fill:rgb(0%,0%,0%);fill-opacity:1;\">\n",
       "  <use xlink:href=\"#glyph-1536008871730491-0-8\" x=\"74.187\" y=\"122.455\"/>\n",
       "</g>\n",
       "<g style=\"fill:rgb(0%,0%,0%);fill-opacity:1;\">\n",
       "  <use xlink:href=\"#glyph-1536008871730491-0-1\" x=\"102.533\" y=\"121.997\"/>\n",
       "</g>\n",
       "<g style=\"fill:rgb(0%,0%,0%);fill-opacity:1;\">\n",
       "  <use xlink:href=\"#glyph-1536008871730491-0-3\" x=\"74.187\" y=\"150.742\"/>\n",
       "</g>\n",
       "<g style=\"fill:rgb(0%,0%,0%);fill-opacity:1;\">\n",
       "  <use xlink:href=\"#glyph-1536008871730491-0-4\" x=\"60.013\" y=\"179.113\"/>\n",
       "</g>\n",
       "<g style=\"fill:rgb(0%,0%,0%);fill-opacity:1;\">\n",
       "  <use xlink:href=\"#glyph-1536008871730491-0-9\" x=\"88.36\" y=\"179.088\"/>\n",
       "</g>\n",
       "<g style=\"fill:rgb(0%,0%,0%);fill-opacity:1;\">\n",
       "  <use xlink:href=\"#glyph-1536008871730491-0-6\" x=\"102.533\" y=\"150.742\"/>\n",
       "</g>\n",
       "</g>\n",
       "</svg>\n",
       "\n"
      ],
      "text/plain": [
       "TreeView.LabelledTree({17, 16} directed simple Int64 graph, Any[:+, 2, :/, 7, :-, :/, :/, 9, 7, 5, :-, 4, :+, :/, 7, 8, 9])"
      ]
     },
     "execution_count": 9,
     "metadata": {},
     "output_type": "execute_result"
    }
   ],
   "source": [
    "display(results_gp.tree, grammar)"
   ]
  },
  {
   "cell_type": "markdown",
   "metadata": {},
   "source": [
    "## Grammatical Evolution\n",
    "\n",
    "Grammatical Evolution (GE) is an evolutionary algorithm based on sequentializing the decisions in the derivation tree (e.g., using depth-first traversal order).  Optimization is performed over integer arrays using genetic algorithms.\n",
    "\n",
    "See: C. Ryan, J.J. Collins, M. O'Neil, \"Grammatical Evolution: Evolving Programs for an Arbitrary Language\", in European Conference on Genetic Programming, Springer, 1998, pp. 83-96."
   ]
  },
  {
   "cell_type": "code",
   "execution_count": 10,
   "metadata": {},
   "outputs": [
    {
     "name": "stdout",
     "output_type": "stream",
     "text": [
      "search: \u001b[0m\u001b[1mG\u001b[22m\u001b[0m\u001b[1mr\u001b[22m\u001b[0m\u001b[1ma\u001b[22m\u001b[0m\u001b[1mm\u001b[22m\u001b[0m\u001b[1mm\u001b[22m\u001b[0m\u001b[1ma\u001b[22m\u001b[0m\u001b[1mt\u001b[22m\u001b[0m\u001b[1mi\u001b[22m\u001b[0m\u001b[1mc\u001b[22m\u001b[0m\u001b[1ma\u001b[22m\u001b[0m\u001b[1ml\u001b[22m\u001b[0m\u001b[1mE\u001b[22m\u001b[0m\u001b[1mv\u001b[22m\u001b[0m\u001b[1mo\u001b[22m\u001b[0m\u001b[1ml\u001b[22m\u001b[0m\u001b[1mu\u001b[22m\u001b[0m\u001b[1mt\u001b[22m\u001b[0m\u001b[1mi\u001b[22m\u001b[0m\u001b[1mo\u001b[22m\u001b[0m\u001b[1mn\u001b[22m \u001b[0m\u001b[1mG\u001b[22m\u001b[0m\u001b[1mr\u001b[22m\u001b[0m\u001b[1ma\u001b[22m\u001b[0m\u001b[1mm\u001b[22m\u001b[0m\u001b[1mm\u001b[22m\u001b[0m\u001b[1ma\u001b[22m\u001b[0m\u001b[1mt\u001b[22m\u001b[0m\u001b[1mi\u001b[22m\u001b[0m\u001b[1mc\u001b[22m\u001b[0m\u001b[1ma\u001b[22m\u001b[0m\u001b[1ml\u001b[22m\u001b[0m\u001b[1mE\u001b[22m\u001b[0m\u001b[1mv\u001b[22m\u001b[0m\u001b[1mo\u001b[22m\u001b[0m\u001b[1ml\u001b[22m\u001b[0m\u001b[1mu\u001b[22m\u001b[0m\u001b[1mt\u001b[22m\u001b[0m\u001b[1mi\u001b[22m\u001b[0m\u001b[1mo\u001b[22m\u001b[0m\u001b[1mn\u001b[22ms\n",
      "\n"
     ]
    },
    {
     "data": {
      "text/markdown": [
       "```\n",
       "GrammaticalEvolution\n",
       "```\n",
       "\n",
       "Grammatical Evolution.\n",
       "\n",
       "# Arguments\n",
       "\n",
       "  * `grammar::Grammar`: grammar\n",
       "  * `typ::Symbol`: start symbol\n",
       "  * `pop_size::Int`: population size\n",
       "  * `iterations::Int`: number of iterations\n",
       "  * `init_gene_length::Int`: initial length of genotype integer array\n",
       "  * `max_gene_length::Int`: maximum length of genotype integer array\n",
       "  * `max_depth::Int`: maximum depth of derivation tree\n",
       "  * `p_reproduction::Float64`: probability of reproduction operator\n",
       "  * `p_crossover::Float64`: probability of crossover operator\n",
       "  * `p_mutation::Float64`: probability of mutation operator\n",
       "  * `select_method::SelectionMethod`: selection method (default: tournament selection)\n",
       "  * `mutate_method::InitializationMethod`: mutation method (default: multi-mutate)\n"
      ],
      "text/plain": [
       "\u001b[36m  GrammaticalEvolution\u001b[39m\n",
       "\n",
       "  Grammatical Evolution.\n",
       "\n",
       "\u001b[1m  Arguments\u001b[22m\n",
       "\u001b[1m  ≡≡≡≡≡≡≡≡≡≡≡\u001b[22m\n",
       "\n",
       "    •    \u001b[36mgrammar::Grammar\u001b[39m: grammar\n",
       "\n",
       "    •    \u001b[36mtyp::Symbol\u001b[39m: start symbol\n",
       "\n",
       "    •    \u001b[36mpop_size::Int\u001b[39m: population size\n",
       "\n",
       "    •    \u001b[36miterations::Int\u001b[39m: number of iterations\n",
       "\n",
       "    •    \u001b[36minit_gene_length::Int\u001b[39m: initial length of genotype integer array\n",
       "\n",
       "    •    \u001b[36mmax_gene_length::Int\u001b[39m: maximum length of genotype integer array\n",
       "\n",
       "    •    \u001b[36mmax_depth::Int\u001b[39m: maximum depth of derivation tree\n",
       "\n",
       "    •    \u001b[36mp_reproduction::Float64\u001b[39m: probability of reproduction operator\n",
       "\n",
       "    •    \u001b[36mp_crossover::Float64\u001b[39m: probability of crossover operator\n",
       "\n",
       "    •    \u001b[36mp_mutation::Float64\u001b[39m: probability of mutation operator\n",
       "\n",
       "    •    \u001b[36mselect_method::SelectionMethod\u001b[39m: selection method (default:\n",
       "        tournament selection)\n",
       "\n",
       "    •    \u001b[36mmutate_method::InitializationMethod\u001b[39m: mutation method (default:\n",
       "        multi-mutate)"
      ]
     },
     "execution_count": 10,
     "metadata": {},
     "output_type": "execute_result"
    }
   ],
   "source": [
    "?GrammaticalEvolution"
   ]
  },
  {
   "cell_type": "code",
   "execution_count": 11,
   "metadata": {},
   "outputs": [
    {
     "data": {
      "text/plain": [
       "(:(3 + ((9 * 8) / (1 + 9 * 8)) / 7), 3.1409001956947162, 0.0006924578950768812)"
      ]
     },
     "execution_count": 11,
     "metadata": {},
     "output_type": "execute_result"
    }
   ],
   "source": [
    "Random.seed!(4)\n",
    "p = GrammaticalEvolution(grammar,:R,5000,80,20,20,8,0.2,0.4,0.4; select_method=GrammaticalEvolutions.TruncationSelection(100))\n",
    "results_ge = optimize(p, grammar, :R, loss)\n",
    "(expr, val, err) = (results_ge.expr, eval(results_ge.expr), abs(eval(results_ge.expr)-π))"
   ]
  },
  {
   "cell_type": "code",
   "execution_count": 12,
   "metadata": {},
   "outputs": [
    {
     "data": {
      "image/svg+xml": [
       "<?xml version=\"1.0\" encoding=\"UTF-8\"?>\n",
       "<svg xmlns=\"http://www.w3.org/2000/svg\" xmlns:xlink=\"http://www.w3.org/1999/xlink\" width=\"111.084pt\" height=\"154.172pt\" viewBox=\"0 0 111.084 154.172\" version=\"1.1\">\n",
       "<defs>\n",
       "<g>\n",
       "<symbol overflow=\"visible\" id=\"glyph-1536008871730492-0-0\">\n",
       "<path style=\"stroke:none;\" d=\"\"/>\n",
       "</symbol>\n",
       "<symbol overflow=\"visible\" id=\"glyph-1536008871730492-0-1\">\n",
       "<path style=\"stroke:none;\" d=\"M 4.84375 -3.046875 C 4.84375 -3.40625 4.5 -3.40625 4.375 -3.40625 L 2.953125 -3.40625 L 2.953125 -4.828125 C 2.953125 -4.9375 2.953125 -5.296875 2.609375 -5.296875 C 2.265625 -5.296875 2.265625 -4.9375 2.265625 -4.828125 L 2.265625 -3.40625 L 0.84375 -3.40625 C 0.734375 -3.40625 0.375 -3.40625 0.375 -3.046875 C 0.375 -2.703125 0.734375 -2.703125 0.84375 -2.703125 L 2.265625 -2.703125 L 2.265625 -1.28125 C 2.265625 -1.15625 2.265625 -0.8125 2.609375 -0.8125 C 2.953125 -0.8125 2.953125 -1.15625 2.953125 -1.28125 L 2.953125 -2.703125 L 4.375 -2.703125 C 4.5 -2.703125 4.84375 -2.703125 4.84375 -3.046875 Z M 4.84375 -3.046875 \"/>\n",
       "</symbol>\n",
       "<symbol overflow=\"visible\" id=\"glyph-1536008871730492-0-2\">\n",
       "<path style=\"stroke:none;\" d=\"M 4.78125 -1.734375 C 4.78125 -2.4375 4.3125 -3.03125 3.65625 -3.328125 C 4.21875 -3.6875 4.5 -4.25 4.5 -4.796875 C 4.5 -5.53125 3.765625 -6.203125 2.625 -6.203125 C 1.421875 -6.203125 0.734375 -5.71875 0.734375 -5.03125 C 0.734375 -4.703125 0.984375 -4.5625 1.171875 -4.5625 C 1.390625 -4.5625 1.609375 -4.734375 1.609375 -5.015625 C 1.609375 -5.15625 1.5625 -5.25 1.53125 -5.28125 C 1.828125 -5.59375 2.546875 -5.59375 2.625 -5.59375 C 3.3125 -5.59375 3.8125 -5.234375 3.8125 -4.78125 C 3.8125 -4.484375 3.65625 -4.140625 3.390625 -3.921875 C 3.078125 -3.65625 2.828125 -3.640625 2.46875 -3.625 C 1.890625 -3.578125 1.75 -3.578125 1.75 -3.296875 C 1.75 -2.984375 1.984375 -2.984375 2.140625 -2.984375 L 2.609375 -2.984375 C 3.59375 -2.984375 4.09375 -2.3125 4.09375 -1.734375 C 4.09375 -1.125 3.53125 -0.5 2.625 -0.5 C 2.234375 -0.5 1.46875 -0.609375 1.203125 -1.078125 C 1.25 -1.125 1.328125 -1.1875 1.328125 -1.390625 C 1.328125 -1.625 1.140625 -1.828125 0.890625 -1.828125 C 0.65625 -1.828125 0.4375 -1.671875 0.4375 -1.359375 C 0.4375 -0.46875 1.40625 0.109375 2.625 0.109375 C 3.9375 0.109375 4.78125 -0.8125 4.78125 -1.734375 Z M 4.78125 -1.734375 \"/>\n",
       "</symbol>\n",
       "<symbol overflow=\"visible\" id=\"glyph-1536008871730492-0-3\">\n",
       "<path style=\"stroke:none;\" d=\"M 4.640625 -6.5625 C 4.640625 -6.75 4.5 -6.921875 4.296875 -6.921875 C 4.078125 -6.921875 4 -6.765625 3.953125 -6.640625 L 0.65625 0.234375 C 0.59375 0.40625 0.578125 0.40625 0.578125 0.484375 C 0.578125 0.65625 0.734375 0.828125 0.921875 0.828125 C 1.140625 0.828125 1.21875 0.671875 1.28125 0.546875 L 4.5625 -6.328125 C 4.640625 -6.484375 4.640625 -6.484375 4.640625 -6.5625 Z M 4.640625 -6.5625 \"/>\n",
       "</symbol>\n",
       "<symbol overflow=\"visible\" id=\"glyph-1536008871730492-0-4\">\n",
       "<path style=\"stroke:none;\" d=\"M 4.546875 -2.140625 C 4.546875 -2.296875 4.421875 -2.390625 4.40625 -2.40625 C 4.15625 -2.578125 3.484375 -2.90625 3.21875 -3.046875 L 4.296875 -3.625 C 4.421875 -3.703125 4.546875 -3.765625 4.546875 -3.953125 C 4.546875 -4 4.546875 -4.28125 4.140625 -4.28125 L 2.90625 -3.5625 C 2.9375 -3.828125 2.9375 -4.484375 2.9375 -4.78125 C 2.9375 -4.859375 2.9375 -5.1875 2.609375 -5.1875 C 2.28125 -5.1875 2.28125 -4.859375 2.28125 -4.78125 C 2.28125 -4.484375 2.296875 -3.828125 2.3125 -3.5625 L 1.234375 -4.203125 C 1.09375 -4.28125 1.078125 -4.28125 1 -4.28125 C 0.8125 -4.28125 0.671875 -4.109375 0.671875 -3.953125 C 0.671875 -3.765625 0.78125 -3.703125 0.921875 -3.640625 L 2 -3.046875 L 0.921875 -2.46875 C 0.8125 -2.390625 0.671875 -2.328125 0.671875 -2.140625 C 0.671875 -2.09375 0.671875 -1.796875 1.078125 -1.796875 L 2.3125 -2.515625 C 2.296875 -2.265625 2.28125 -1.609375 2.28125 -1.3125 C 2.28125 -1.21875 2.28125 -0.890625 2.609375 -0.890625 C 2.9375 -0.890625 2.9375 -1.21875 2.9375 -1.3125 C 2.9375 -1.609375 2.9375 -2.265625 2.90625 -2.515625 C 3.515625 -2.1875 3.15625 -2.375 3.84375 -1.96875 C 4.109375 -1.796875 4.140625 -1.796875 4.21875 -1.796875 C 4.421875 -1.796875 4.546875 -1.984375 4.546875 -2.140625 Z M 4.546875 -2.140625 \"/>\n",
       "</symbol>\n",
       "<symbol overflow=\"visible\" id=\"glyph-1536008871730492-0-5\">\n",
       "<path style=\"stroke:none;\" d=\"M 4.6875 -3.109375 C 4.6875 -5.515625 3.59375 -6.203125 2.640625 -6.203125 C 1.53125 -6.203125 0.53125 -5.375 0.53125 -4.171875 C 0.53125 -3.03125 1.40625 -2.140625 2.5 -2.140625 C 3.015625 -2.140625 3.53125 -2.3125 3.984375 -2.71875 C 3.890625 -1.484375 3.109375 -0.5 2.15625 -0.5 C 2.0625 -0.5 1.703125 -0.515625 1.5 -0.671875 C 1.53125 -0.71875 1.578125 -0.78125 1.578125 -0.953125 C 1.578125 -1.1875 1.40625 -1.390625 1.140625 -1.390625 C 0.890625 -1.390625 0.703125 -1.21875 0.703125 -0.921875 C 0.703125 -0.59375 0.875 0.109375 2.15625 0.109375 C 3.46875 0.109375 4.6875 -1.140625 4.6875 -3.109375 Z M 3.921875 -3.875 C 3.921875 -3.328125 3.375 -2.765625 2.546875 -2.765625 C 1.75 -2.765625 1.21875 -3.421875 1.21875 -4.171875 C 1.21875 -5.03125 1.921875 -5.59375 2.640625 -5.59375 C 3.078125 -5.59375 3.34375 -5.359375 3.515625 -5.15625 C 3.828125 -4.78125 3.921875 -4.578125 3.921875 -3.875 Z M 3.921875 -3.875 \"/>\n",
       "</symbol>\n",
       "<symbol overflow=\"visible\" id=\"glyph-1536008871730492-0-6\">\n",
       "<path style=\"stroke:none;\" d=\"M 4.78125 -1.734375 C 4.78125 -2.484375 4.140625 -3.078125 3.40625 -3.28125 C 4.203125 -3.546875 4.640625 -4.03125 4.640625 -4.609375 C 4.640625 -5.421875 3.796875 -6.203125 2.609375 -6.203125 C 1.421875 -6.203125 0.578125 -5.40625 0.578125 -4.609375 C 0.578125 -4.03125 1.03125 -3.53125 1.828125 -3.28125 C 1.078125 -3.078125 0.4375 -2.484375 0.4375 -1.734375 C 0.4375 -0.765625 1.359375 0.109375 2.609375 0.109375 C 3.875 0.109375 4.78125 -0.765625 4.78125 -1.734375 Z M 3.953125 -4.59375 C 3.953125 -4.03125 3.34375 -3.59375 2.609375 -3.59375 C 1.890625 -3.59375 1.265625 -4.03125 1.265625 -4.59375 C 1.265625 -5.109375 1.828125 -5.59375 2.609375 -5.59375 C 3.390625 -5.59375 3.953125 -5.109375 3.953125 -4.59375 Z M 4.09375 -1.75 C 4.09375 -1.0625 3.4375 -0.5 2.609375 -0.5 C 1.78125 -0.5 1.125 -1.0625 1.125 -1.75 C 1.125 -2.359375 1.703125 -2.984375 2.609375 -2.984375 C 3.53125 -2.984375 4.09375 -2.359375 4.09375 -1.75 Z M 4.09375 -1.75 \"/>\n",
       "</symbol>\n",
       "<symbol overflow=\"visible\" id=\"glyph-1536008871730492-0-7\">\n",
       "<path style=\"stroke:none;\" d=\"M 4.40625 -0.296875 C 4.40625 -0.609375 4.171875 -0.609375 4 -0.609375 L 3.09375 -0.609375 L 3.09375 -5.796875 C 3.09375 -5.953125 3.09375 -6.203125 2.796875 -6.203125 C 2.609375 -6.203125 2.546875 -6.078125 2.5 -5.96875 C 2.125 -5.109375 1.609375 -5 1.421875 -4.984375 C 1.25 -4.96875 1.046875 -4.953125 1.046875 -4.671875 C 1.046875 -4.421875 1.21875 -4.375 1.375 -4.375 C 1.5625 -4.375 1.96875 -4.4375 2.40625 -4.8125 L 2.40625 -0.609375 L 1.5 -0.609375 C 1.34375 -0.609375 1.109375 -0.609375 1.109375 -0.296875 C 1.109375 0 1.359375 0 1.5 0 L 4 0 C 4.15625 0 4.40625 0 4.40625 -0.296875 Z M 4.40625 -0.296875 \"/>\n",
       "</symbol>\n",
       "<symbol overflow=\"visible\" id=\"glyph-1536008871730492-0-8\">\n",
       "<path style=\"stroke:none;\" d=\"M 4.78125 -5.78125 C 4.78125 -6.09375 4.546875 -6.09375 4.390625 -6.09375 L 1.09375 -6.09375 C 1.03125 -6.25 0.859375 -6.25 0.78125 -6.25 C 0.4375 -6.25 0.4375 -6.03125 0.4375 -5.84375 L 0.4375 -5.421875 C 0.4375 -5.234375 0.4375 -5.015625 0.78125 -5.015625 C 1.125 -5.015625 1.125 -5.203125 1.125 -5.484375 L 3.765625 -5.484375 C 2.03125 -3.65625 1.6875 -1.453125 1.6875 -0.359375 C 1.6875 -0.21875 1.6875 0.109375 2.046875 0.109375 C 2.21875 0.109375 2.375 0 2.375 -0.296875 C 2.4375 -3.125 3.953125 -4.859375 4.5625 -5.4375 C 4.765625 -5.625 4.78125 -5.640625 4.78125 -5.78125 Z M 4.78125 -5.78125 \"/>\n",
       "</symbol>\n",
       "</g>\n",
       "</defs>\n",
       "<g id=\"surface1\">\n",
       "<path style=\"fill:none;stroke-width:0.3985;stroke-linecap:butt;stroke-linejoin:miter;stroke:rgb(0%,0%,0%);stroke-opacity:1;stroke-miterlimit:10;\" d=\"M -3.083906 -6.166812 L -10.630781 -21.260562 \" transform=\"matrix(1,0,0,-1,48.455,5.966)\"/>\n",
       "<path style=\"fill:none;stroke-width:0.31879;stroke-linecap:round;stroke-linejoin:round;stroke:rgb(0%,0%,0%);stroke-opacity:1;stroke-miterlimit:10;\" d=\"M -1.195261 1.595096 C -1.096082 0.996544 0.000103563 0.100455 0.29764 0.00127673 C 0.000103563 -0.099642 -1.096082 -0.995731 -1.197001 -1.594283 \" transform=\"matrix(-0.449,0.898,0.898,0.449,37.8239,27.22824)\"/>\n",
       "<path style=\"fill:none;stroke-width:0.3985;stroke-linecap:butt;stroke-linejoin:miter;stroke:rgb(0%,0%,0%);stroke-opacity:1;stroke-miterlimit:10;\" d=\"M 3.084063 -6.166812 L 10.271563 -20.545719 \" transform=\"matrix(1,0,0,-1,48.455,5.966)\"/>\n",
       "<path style=\"fill:none;stroke-width:0.31879;stroke-linecap:round;stroke-linejoin:round;stroke:rgb(0%,0%,0%);stroke-opacity:1;stroke-miterlimit:10;\" d=\"M -1.195072 1.592661 C -1.097628 0.995847 -0.00142907 0.0997638 0.297849 0.00232727 C -0.00142729 -0.100335 -1.09761 -0.996437 -1.196784 -1.594993 \" transform=\"matrix(0.44899,0.898,0.898,-0.44899,58.72746,26.51092)\"/>\n",
       "<path style=\"fill:none;stroke-width:0.3985;stroke-linecap:butt;stroke-linejoin:miter;stroke:rgb(0%,0%,0%);stroke-opacity:1;stroke-miterlimit:10;\" d=\"M 10.478594 -35.737125 L 3.900469 -48.893375 \" transform=\"matrix(1,0,0,-1,48.455,5.966)\"/>\n",
       "<path style=\"fill:none;stroke-width:0.31879;stroke-linecap:round;stroke-linejoin:round;stroke:rgb(0%,0%,0%);stroke-opacity:1;stroke-miterlimit:10;\" d=\"M -1.19506 1.595259 C -1.095479 0.994314 -0.00189038 0.0998939 0.296836 0.000321296 C 0.00160527 -0.0992566 -1.095461 -0.997191 -1.195031 -1.592896 \" transform=\"matrix(-0.44722,0.89442,0.89442,0.44722,52.35512,54.85936)\"/>\n",
       "<path style=\"fill:none;stroke-width:0.3985;stroke-linecap:butt;stroke-linejoin:miter;stroke:rgb(0%,0%,0%);stroke-opacity:1;stroke-miterlimit:10;\" d=\"M 17.869219 -35.737125 L 24.791094 -49.584781 \" transform=\"matrix(1,0,0,-1,48.455,5.966)\"/>\n",
       "<path style=\"fill:none;stroke-width:0.31879;stroke-linecap:round;stroke-linejoin:round;stroke:rgb(0%,0%,0%);stroke-opacity:1;stroke-miterlimit:10;\" d=\"M -1.194846 1.595537 C -1.097012 0.996334 0.0000807373 0.0984117 0.300557 0.000585191 C 0.00182945 -0.0989936 -1.096994 -0.995189 -1.194818 -1.592647 \" transform=\"matrix(0.4472,0.89442,0.89442,-0.4472,73.24788,55.55175)\"/>\n",
       "<path style=\"fill:none;stroke-width:0.3985;stroke-linecap:butt;stroke-linejoin:miter;stroke:rgb(0%,0%,0%);stroke-opacity:1;stroke-miterlimit:10;\" d=\"M -3.693281 -64.084781 L -10.912031 -78.514469 \" transform=\"matrix(1,0,0,-1,48.455,5.966)\"/>\n",
       "<path style=\"fill:none;stroke-width:0.31879;stroke-linecap:round;stroke-linejoin:round;stroke:rgb(0%,0%,0%);stroke-opacity:1;stroke-miterlimit:10;\" d=\"M -1.195249 1.59345 C -1.097405 0.996006 0.00143063 0.0998662 0.300156 0.000299859 C 0.00143602 -0.101029 -1.097352 -0.995481 -1.195163 -1.594677 \" transform=\"matrix(-0.44724,0.89442,0.89442,0.44724,37.54413,84.4814)\"/>\n",
       "<path style=\"fill:none;stroke-width:0.3985;stroke-linecap:butt;stroke-linejoin:miter;stroke:rgb(0%,0%,0%);stroke-opacity:1;stroke-miterlimit:10;\" d=\"M 3.693438 -64.084781 L 10.884844 -78.463687 \" transform=\"matrix(1,0,0,-1,48.455,5.966)\"/>\n",
       "<path style=\"fill:none;stroke-width:0.31879;stroke-linecap:round;stroke-linejoin:round;stroke:rgb(0%,0%,0%);stroke-opacity:1;stroke-miterlimit:10;\" d=\"M -1.195748 1.593659 C -1.09483 0.995107 0.00135635 0.0990184 0.298893 -0.00190033 C 0.00135635 -0.101079 -1.09483 -0.997168 -1.197488 -1.59398 \" transform=\"matrix(0.449,0.898,0.898,-0.449,59.34016,84.42996)\"/>\n",
       "<path style=\"fill:none;stroke-width:0.3985;stroke-linecap:butt;stroke-linejoin:miter;stroke:rgb(0%,0%,0%);stroke-opacity:1;stroke-miterlimit:10;\" d=\"M -20.287031 -91.155094 L -36.060469 -106.928531 \" transform=\"matrix(1,0,0,-1,48.455,5.966)\"/>\n",
       "<path style=\"fill:none;stroke-width:0.31879;stroke-linecap:round;stroke-linejoin:round;stroke:rgb(0%,0%,0%);stroke-opacity:1;stroke-miterlimit:10;\" d=\"M -1.196186 1.594505 C -1.096748 0.997878 -0.000169707 0.100175 0.298144 0.000737166 C -0.000169707 -0.0987007 -1.096748 -0.996403 -1.196186 -1.593031 \" transform=\"matrix(-0.7071,0.7071,0.7071,0.7071,12.39389,112.89413)\"/>\n",
       "<path style=\"fill:none;stroke-width:0.3985;stroke-linecap:butt;stroke-linejoin:miter;stroke:rgb(0%,0%,0%);stroke-opacity:1;stroke-miterlimit:10;\" d=\"M -14.17375 -91.155094 L -14.17375 -106.256656 \" transform=\"matrix(1,0,0,-1,48.455,5.966)\"/>\n",
       "<path style=\"fill:none;stroke-width:0.31879;stroke-linecap:round;stroke-linejoin:round;stroke:rgb(0%,0%,0%);stroke-opacity:1;stroke-miterlimit:10;\" d=\"M -1.194556 1.59339 C -1.0969 0.995734 0.00075625 0.101202 0.297631 -0.00036 C 0.00075625 -0.0980163 -1.0969 -0.996454 -1.194556 -1.59411 \" transform=\"matrix(0,1,1,0,34.28161,112.2219)\"/>\n",
       "<path style=\"fill:none;stroke-width:0.3985;stroke-linecap:butt;stroke-linejoin:miter;stroke:rgb(0%,0%,0%);stroke-opacity:1;stroke-miterlimit:10;\" d=\"M 14.173906 -91.205875 L 14.173906 -106.311344 \" transform=\"matrix(1,0,0,-1,48.455,5.966)\"/>\n",
       "<path style=\"fill:none;stroke-width:0.31879;stroke-linecap:round;stroke-linejoin:round;stroke:rgb(0%,0%,0%);stroke-opacity:1;stroke-miterlimit:10;\" d=\"M -1.194669 1.594266 C -1.097013 0.99661 0.00064375 0.0981725 0.297519 0.00051625 C 0.00064375 -0.101046 -1.097013 -0.995577 -1.194669 -1.593234 \" transform=\"matrix(0,1,1,0,62.62839,112.2767)\"/>\n",
       "<path style=\"fill:none;stroke-width:0.3985;stroke-linecap:butt;stroke-linejoin:miter;stroke:rgb(0%,0%,0%);stroke-opacity:1;stroke-miterlimit:10;\" d=\"M 20.306719 -91.174625 L 36.080156 -106.948062 \" transform=\"matrix(1,0,0,-1,48.455,5.966)\"/>\n",
       "<path style=\"fill:none;stroke-width:0.31879;stroke-linecap:round;stroke-linejoin:round;stroke:rgb(0%,0%,0%);stroke-opacity:1;stroke-miterlimit:10;\" d=\"M -1.196611 1.593141 C -1.097173 0.996514 -0.000594859 0.0988112 0.297719 -0.000626679 C -0.000594859 -0.100065 -1.094411 -0.995005 -1.196611 -1.594394 \" transform=\"matrix(0.7071,0.7071,0.7071,-0.7071,84.53602,112.91404)\"/>\n",
       "<path style=\"fill:none;stroke-width:0.3985;stroke-linecap:butt;stroke-linejoin:miter;stroke:rgb(0%,0%,0%);stroke-opacity:1;stroke-miterlimit:10;\" d=\"M 39.462969 -119.50275 L 31.88875 -134.651187 \" transform=\"matrix(1,0,0,-1,48.455,5.966)\"/>\n",
       "<path style=\"fill:none;stroke-width:0.31879;stroke-linecap:round;stroke-linejoin:round;stroke:rgb(0%,0%,0%);stroke-opacity:1;stroke-miterlimit:10;\" d=\"M -1.195076 1.59536 C -1.095486 0.994422 -0.00189047 0.100029 0.296835 0.000463002 C 0.00160871 -0.0991193 -1.095432 -0.997065 -1.194991 -1.592767 \" transform=\"matrix(-0.44724,0.89442,0.89442,0.44724,80.34328,140.61711)\"/>\n",
       "<path style=\"fill:none;stroke-width:0.3985;stroke-linecap:butt;stroke-linejoin:miter;stroke:rgb(0%,0%,0%);stroke-opacity:1;stroke-miterlimit:10;\" d=\"M 45.57625 -119.50275 L 53.150469 -134.651187 \" transform=\"matrix(1,0,0,-1,48.455,5.966)\"/>\n",
       "<path style=\"fill:none;stroke-width:0.31879;stroke-linecap:round;stroke-linejoin:round;stroke:rgb(0%,0%,0%);stroke-opacity:1;stroke-miterlimit:10;\" d=\"M -1.193776 1.595195 C -1.095965 0.995999 0.00107594 0.0980538 0.29805 0.00196532 C -0.000676231 -0.097601 -1.096018 -0.995488 -1.193862 -1.592931 \" transform=\"matrix(0.44724,0.89442,0.89442,-0.44724,101.60713,140.61711)\"/>\n",
       "<g style=\"fill:rgb(0%,0%,0%);fill-opacity:1;\">\n",
       "  <use xlink:href=\"#glyph-1536008871730492-0-1\" x=\"45.84\" y=\"8.611\"/>\n",
       "</g>\n",
       "<g style=\"fill:rgb(0%,0%,0%);fill-opacity:1;\">\n",
       "  <use xlink:href=\"#glyph-1536008871730492-0-2\" x=\"31.667\" y=\"37.356\"/>\n",
       "</g>\n",
       "<g style=\"fill:rgb(0%,0%,0%);fill-opacity:1;\">\n",
       "  <use xlink:href=\"#glyph-1536008871730492-0-3\" x=\"60.013\" y=\"37.356\"/>\n",
       "</g>\n",
       "<g style=\"fill:rgb(0%,0%,0%);fill-opacity:1;\">\n",
       "  <use xlink:href=\"#glyph-1536008871730492-0-3\" x=\"45.84\" y=\"65.703\"/>\n",
       "</g>\n",
       "<g style=\"fill:rgb(0%,0%,0%);fill-opacity:1;\">\n",
       "  <use xlink:href=\"#glyph-1536008871730492-0-4\" x=\"31.667\" y=\"93.601\"/>\n",
       "</g>\n",
       "<g style=\"fill:rgb(0%,0%,0%);fill-opacity:1;\">\n",
       "  <use xlink:href=\"#glyph-1536008871730492-0-5\" x=\"3.321\" y=\"122.395\"/>\n",
       "</g>\n",
       "<g style=\"fill:rgb(0%,0%,0%);fill-opacity:1;\">\n",
       "  <use xlink:href=\"#glyph-1536008871730492-0-6\" x=\"31.667\" y=\"122.395\"/>\n",
       "</g>\n",
       "<g style=\"fill:rgb(0%,0%,0%);fill-opacity:1;\">\n",
       "  <use xlink:href=\"#glyph-1536008871730492-0-1\" x=\"60.013\" y=\"93.65\"/>\n",
       "</g>\n",
       "<g style=\"fill:rgb(0%,0%,0%);fill-opacity:1;\">\n",
       "  <use xlink:href=\"#glyph-1536008871730492-0-7\" x=\"60.013\" y=\"122.45\"/>\n",
       "</g>\n",
       "<g style=\"fill:rgb(0%,0%,0%);fill-opacity:1;\">\n",
       "  <use xlink:href=\"#glyph-1536008871730492-0-4\" x=\"88.36\" y=\"121.947\"/>\n",
       "</g>\n",
       "<g style=\"fill:rgb(0%,0%,0%);fill-opacity:1;\">\n",
       "  <use xlink:href=\"#glyph-1536008871730492-0-5\" x=\"74.187\" y=\"150.742\"/>\n",
       "</g>\n",
       "<g style=\"fill:rgb(0%,0%,0%);fill-opacity:1;\">\n",
       "  <use xlink:href=\"#glyph-1536008871730492-0-6\" x=\"102.533\" y=\"150.742\"/>\n",
       "</g>\n",
       "<g style=\"fill:rgb(0%,0%,0%);fill-opacity:1;\">\n",
       "  <use xlink:href=\"#glyph-1536008871730492-0-8\" x=\"74.187\" y=\"65.727\"/>\n",
       "</g>\n",
       "</g>\n",
       "</svg>\n",
       "\n"
      ],
      "text/plain": [
       "TreeView.LabelledTree({13, 12} directed simple Int64 graph, Any[:+, 3, :/, :/, :*, 9, 8, :+, 1, :*, 9, 8, 7])"
      ]
     },
     "execution_count": 12,
     "metadata": {},
     "output_type": "execute_result"
    }
   ],
   "source": [
    "display(results_ge.tree, grammar)"
   ]
  },
  {
   "cell_type": "markdown",
   "metadata": {},
   "source": [
    "## Cross-Entropy Method\n",
    "\n",
    "The Cross-Entropy (CE) Method is a population-based optimization algorithm based on repeatedly estimating the probability distribution of good solutions.  This implementation uses a probabilistic grammar to represent the distributions.\n",
    "\n",
    "See: Rubinstein, \"Optimization of Computer Simulation Models with Rare Events\", European Journal of Operations Research, 99, 89-112, 1197"
   ]
  },
  {
   "cell_type": "code",
   "execution_count": 13,
   "metadata": {},
   "outputs": [
    {
     "name": "stdout",
     "output_type": "stream",
     "text": [
      "search: \u001b[0m\u001b[1mC\u001b[22m\u001b[0m\u001b[1mr\u001b[22m\u001b[0m\u001b[1mo\u001b[22m\u001b[0m\u001b[1ms\u001b[22m\u001b[0m\u001b[1ms\u001b[22m\u001b[0m\u001b[1mE\u001b[22m\u001b[0m\u001b[1mn\u001b[22m\u001b[0m\u001b[1mt\u001b[22m\u001b[0m\u001b[1mr\u001b[22m\u001b[0m\u001b[1mo\u001b[22m\u001b[0m\u001b[1mp\u001b[22m\u001b[0m\u001b[1my\u001b[22m \u001b[0m\u001b[1mC\u001b[22m\u001b[0m\u001b[1mr\u001b[22m\u001b[0m\u001b[1mo\u001b[22m\u001b[0m\u001b[1ms\u001b[22m\u001b[0m\u001b[1ms\u001b[22m\u001b[0m\u001b[1mE\u001b[22m\u001b[0m\u001b[1mn\u001b[22m\u001b[0m\u001b[1mt\u001b[22m\u001b[0m\u001b[1mr\u001b[22m\u001b[0m\u001b[1mo\u001b[22m\u001b[0m\u001b[1mp\u001b[22m\u001b[0m\u001b[1my\u001b[22ms\n",
      "\n"
     ]
    },
    {
     "data": {
      "text/markdown": [
       "```\n",
       "CrossEntropy\n",
       "```\n",
       "\n",
       "Cross Entropy method.\n",
       "\n",
       "# Arguments\n",
       "\n",
       "  * `pop_size::Int`: population size\n",
       "  * `iiterations::Int`: number of iterations\n",
       "  * `max_depth::Int`: maximum depth of derivation tree\n",
       "  * `top_k::Int`: top k elite samples used in selection\n",
       "  * `p_init::Float64`: initial value when fitting MLE\n",
       "  * `init_method::InitializationMethod`: Initialization method\n"
      ],
      "text/plain": [
       "\u001b[36m  CrossEntropy\u001b[39m\n",
       "\n",
       "  Cross Entropy method.\n",
       "\n",
       "\u001b[1m  Arguments\u001b[22m\n",
       "\u001b[1m  ≡≡≡≡≡≡≡≡≡≡≡\u001b[22m\n",
       "\n",
       "    •    \u001b[36mpop_size::Int\u001b[39m: population size\n",
       "\n",
       "    •    \u001b[36miiterations::Int\u001b[39m: number of iterations\n",
       "\n",
       "    •    \u001b[36mmax_depth::Int\u001b[39m: maximum depth of derivation tree\n",
       "\n",
       "    •    \u001b[36mtop_k::Int\u001b[39m: top k elite samples used in selection\n",
       "\n",
       "    •    \u001b[36mp_init::Float64\u001b[39m: initial value when fitting MLE \n",
       "\n",
       "    •    \u001b[36minit_method::InitializationMethod\u001b[39m: Initialization method"
      ]
     },
     "execution_count": 13,
     "metadata": {},
     "output_type": "execute_result"
    }
   ],
   "source": [
    "?CrossEntropy"
   ]
  },
  {
   "cell_type": "code",
   "execution_count": 14,
   "metadata": {},
   "outputs": [
    {
     "data": {
      "text/plain": [
       "(:(2 + 8 / 7), 3.142857142857143, 0.0012644892673496777)"
      ]
     },
     "execution_count": 14,
     "metadata": {},
     "output_type": "execute_result"
    }
   ],
   "source": [
    "Random.seed!(0)\n",
    "p = CrossEntropy(5000,80,8,5000,2000.0)\n",
    "results_ce = optimize(p, grammar, :R, loss)\n",
    "(expr, val, err) = (results_ce.expr, eval(results_ce.expr), abs(eval(results_ce.expr)-π))"
   ]
  },
  {
   "cell_type": "code",
   "execution_count": 15,
   "metadata": {},
   "outputs": [
    {
     "data": {
      "image/svg+xml": [
       "<?xml version=\"1.0\" encoding=\"UTF-8\"?>\n",
       "<svg xmlns=\"http://www.w3.org/2000/svg\" xmlns:xlink=\"http://www.w3.org/1999/xlink\" width=\"54.391pt\" height=\"69.157pt\" viewBox=\"0 0 54.391 69.157\" version=\"1.1\">\n",
       "<defs>\n",
       "<g>\n",
       "<symbol overflow=\"visible\" id=\"glyph-1536008871730493-0-0\">\n",
       "<path style=\"stroke:none;\" d=\"\"/>\n",
       "</symbol>\n",
       "<symbol overflow=\"visible\" id=\"glyph-1536008871730493-0-1\">\n",
       "<path style=\"stroke:none;\" d=\"M 4.84375 -3.046875 C 4.84375 -3.40625 4.5 -3.40625 4.375 -3.40625 L 2.953125 -3.40625 L 2.953125 -4.828125 C 2.953125 -4.9375 2.953125 -5.296875 2.609375 -5.296875 C 2.265625 -5.296875 2.265625 -4.9375 2.265625 -4.828125 L 2.265625 -3.40625 L 0.84375 -3.40625 C 0.734375 -3.40625 0.375 -3.40625 0.375 -3.046875 C 0.375 -2.703125 0.734375 -2.703125 0.84375 -2.703125 L 2.265625 -2.703125 L 2.265625 -1.28125 C 2.265625 -1.15625 2.265625 -0.8125 2.609375 -0.8125 C 2.953125 -0.8125 2.953125 -1.15625 2.953125 -1.28125 L 2.953125 -2.703125 L 4.375 -2.703125 C 4.5 -2.703125 4.84375 -2.703125 4.84375 -3.046875 Z M 4.84375 -3.046875 \"/>\n",
       "</symbol>\n",
       "<symbol overflow=\"visible\" id=\"glyph-1536008871730493-0-2\">\n",
       "<path style=\"stroke:none;\" d=\"M 4.703125 -0.40625 L 4.703125 -0.671875 C 4.703125 -0.859375 4.703125 -1.078125 4.359375 -1.078125 C 4.015625 -1.078125 4.015625 -0.890625 4.015625 -0.609375 L 1.640625 -0.609375 C 2.234375 -1.109375 3.1875 -1.859375 3.625 -2.265625 C 4.25 -2.828125 4.703125 -3.453125 4.703125 -4.25 C 4.703125 -5.453125 3.703125 -6.203125 2.484375 -6.203125 C 1.3125 -6.203125 0.515625 -5.390625 0.515625 -4.53125 C 0.515625 -4.171875 0.796875 -4.0625 0.96875 -4.0625 C 1.171875 -4.0625 1.40625 -4.234375 1.40625 -4.5 C 1.40625 -4.625 1.359375 -4.75 1.265625 -4.828125 C 1.421875 -5.28125 1.890625 -5.59375 2.4375 -5.59375 C 3.25 -5.59375 4.015625 -5.140625 4.015625 -4.25 C 4.015625 -3.5625 3.53125 -2.984375 2.875 -2.4375 L 0.671875 -0.578125 C 0.578125 -0.5 0.515625 -0.453125 0.515625 -0.3125 C 0.515625 0 0.765625 0 0.921875 0 L 4.3125 0 C 4.640625 0 4.703125 -0.09375 4.703125 -0.40625 Z M 4.703125 -0.40625 \"/>\n",
       "</symbol>\n",
       "<symbol overflow=\"visible\" id=\"glyph-1536008871730493-0-3\">\n",
       "<path style=\"stroke:none;\" d=\"M 4.640625 -6.5625 C 4.640625 -6.75 4.5 -6.921875 4.296875 -6.921875 C 4.078125 -6.921875 4 -6.765625 3.953125 -6.640625 L 0.65625 0.234375 C 0.59375 0.40625 0.578125 0.40625 0.578125 0.484375 C 0.578125 0.65625 0.734375 0.828125 0.921875 0.828125 C 1.140625 0.828125 1.21875 0.671875 1.28125 0.546875 L 4.5625 -6.328125 C 4.640625 -6.484375 4.640625 -6.484375 4.640625 -6.5625 Z M 4.640625 -6.5625 \"/>\n",
       "</symbol>\n",
       "<symbol overflow=\"visible\" id=\"glyph-1536008871730493-0-4\">\n",
       "<path style=\"stroke:none;\" d=\"M 4.78125 -1.734375 C 4.78125 -2.484375 4.140625 -3.078125 3.40625 -3.28125 C 4.203125 -3.546875 4.640625 -4.03125 4.640625 -4.609375 C 4.640625 -5.421875 3.796875 -6.203125 2.609375 -6.203125 C 1.421875 -6.203125 0.578125 -5.40625 0.578125 -4.609375 C 0.578125 -4.03125 1.03125 -3.53125 1.828125 -3.28125 C 1.078125 -3.078125 0.4375 -2.484375 0.4375 -1.734375 C 0.4375 -0.765625 1.359375 0.109375 2.609375 0.109375 C 3.875 0.109375 4.78125 -0.765625 4.78125 -1.734375 Z M 3.953125 -4.59375 C 3.953125 -4.03125 3.34375 -3.59375 2.609375 -3.59375 C 1.890625 -3.59375 1.265625 -4.03125 1.265625 -4.59375 C 1.265625 -5.109375 1.828125 -5.59375 2.609375 -5.59375 C 3.390625 -5.59375 3.953125 -5.109375 3.953125 -4.59375 Z M 4.09375 -1.75 C 4.09375 -1.0625 3.4375 -0.5 2.609375 -0.5 C 1.78125 -0.5 1.125 -1.0625 1.125 -1.75 C 1.125 -2.359375 1.703125 -2.984375 2.609375 -2.984375 C 3.53125 -2.984375 4.09375 -2.359375 4.09375 -1.75 Z M 4.09375 -1.75 \"/>\n",
       "</symbol>\n",
       "<symbol overflow=\"visible\" id=\"glyph-1536008871730493-0-5\">\n",
       "<path style=\"stroke:none;\" d=\"M 4.78125 -5.78125 C 4.78125 -6.09375 4.546875 -6.09375 4.390625 -6.09375 L 1.09375 -6.09375 C 1.03125 -6.25 0.859375 -6.25 0.78125 -6.25 C 0.4375 -6.25 0.4375 -6.03125 0.4375 -5.84375 L 0.4375 -5.421875 C 0.4375 -5.234375 0.4375 -5.015625 0.78125 -5.015625 C 1.125 -5.015625 1.125 -5.203125 1.125 -5.484375 L 3.765625 -5.484375 C 2.03125 -3.65625 1.6875 -1.453125 1.6875 -0.359375 C 1.6875 -0.21875 1.6875 0.109375 2.046875 0.109375 C 2.21875 0.109375 2.375 0 2.375 -0.296875 C 2.4375 -3.125 3.953125 -4.859375 4.5625 -5.4375 C 4.765625 -5.625 4.78125 -5.640625 4.78125 -5.78125 Z M 4.78125 -5.78125 \"/>\n",
       "</symbol>\n",
       "</g>\n",
       "</defs>\n",
       "<g id=\"surface1\">\n",
       "<path style=\"fill:none;stroke-width:0.3985;stroke-linecap:butt;stroke-linejoin:miter;stroke:rgb(0%,0%,0%);stroke-opacity:1;stroke-miterlimit:10;\" d=\"M -3.081656 -6.163906 L -10.659781 -21.31625 \" transform=\"matrix(1,0,0,-1,20.109,5.965)\"/>\n",
       "<path style=\"fill:none;stroke-width:0.31879;stroke-linecap:round;stroke-linejoin:round;stroke:rgb(0%,0%,0%);stroke-opacity:1;stroke-miterlimit:10;\" d=\"M -1.19374 1.594075 C -1.094561 0.995523 0.00162472 0.0994343 0.299161 0.000255568 C 0.00162472 -0.100663 -1.094561 -0.996752 -1.19548 -1.595304 \" transform=\"matrix(-0.449,0.898,0.898,0.449,9.4505,27.28202)\"/>\n",
       "<path style=\"fill:none;stroke-width:0.3985;stroke-linecap:butt;stroke-linejoin:miter;stroke:rgb(0%,0%,0%);stroke-opacity:1;stroke-miterlimit:10;\" d=\"M 3.082406 -6.163906 L 10.273812 -20.546719 \" transform=\"matrix(1,0,0,-1,20.109,5.965)\"/>\n",
       "<path style=\"fill:none;stroke-width:0.31879;stroke-linecap:round;stroke-linejoin:round;stroke:rgb(0%,0%,0%);stroke-opacity:1;stroke-miterlimit:10;\" d=\"M -1.196659 1.59596 C -1.095735 0.997406 0.000464021 0.101323 0.298002 0.000406331 C 0.000465804 -0.0987755 -1.095717 -0.994878 -1.194891 -1.593434 \" transform=\"matrix(0.44899,0.898,0.898,-0.44899,30.38146,26.50992)\"/>\n",
       "<path style=\"fill:none;stroke-width:0.3985;stroke-linecap:butt;stroke-linejoin:miter;stroke:rgb(0%,0%,0%);stroke-opacity:1;stroke-miterlimit:10;\" d=\"M 10.476937 -35.738125 L 3.543344 -49.609219 \" transform=\"matrix(1,0,0,-1,20.109,5.965)\"/>\n",
       "<path style=\"fill:none;stroke-width:0.31879;stroke-linecap:round;stroke-linejoin:round;stroke:rgb(0%,0%,0%);stroke-opacity:1;stroke-miterlimit:10;\" d=\"M -1.197406 1.594927 C -1.094762 0.998104 -0.00206528 0.100234 0.300692 -0.000694014 C 0.00140942 -0.0981261 -1.094815 -0.994197 -1.195751 -1.592755 \" transform=\"matrix(-0.44897,0.898,0.898,0.44897,23.65125,55.57404)\"/>\n",
       "<path style=\"fill:none;stroke-width:0.3985;stroke-linecap:butt;stroke-linejoin:miter;stroke:rgb(0%,0%,0%);stroke-opacity:1;stroke-miterlimit:10;\" d=\"M 17.867562 -35.738125 L 24.793344 -49.585781 \" transform=\"matrix(1,0,0,-1,20.109,5.965)\"/>\n",
       "<path style=\"fill:none;stroke-width:0.31879;stroke-linecap:round;stroke-linejoin:round;stroke:rgb(0%,0%,0%);stroke-opacity:1;stroke-miterlimit:10;\" d=\"M -1.194693 1.593609 C -1.095111 0.997899 0.0019814 0.099977 0.297217 0.000403479 C -0.00151071 -0.0991753 -1.09684 -0.997117 -1.194664 -1.594575 \" transform=\"matrix(0.4472,0.89442,0.89442,-0.4472,44.90188,55.55075)\"/>\n",
       "<g style=\"fill:rgb(0%,0%,0%);fill-opacity:1;\">\n",
       "  <use xlink:href=\"#glyph-1536008871730493-0-1\" x=\"17.494\" y=\"8.611\"/>\n",
       "</g>\n",
       "<g style=\"fill:rgb(0%,0%,0%);fill-opacity:1;\">\n",
       "  <use xlink:href=\"#glyph-1536008871730493-0-2\" x=\"3.321\" y=\"37.41\"/>\n",
       "</g>\n",
       "<g style=\"fill:rgb(0%,0%,0%);fill-opacity:1;\">\n",
       "  <use xlink:href=\"#glyph-1536008871730493-0-3\" x=\"31.667\" y=\"37.356\"/>\n",
       "</g>\n",
       "<g style=\"fill:rgb(0%,0%,0%);fill-opacity:1;\">\n",
       "  <use xlink:href=\"#glyph-1536008871730493-0-4\" x=\"17.494\" y=\"65.702\"/>\n",
       "</g>\n",
       "<g style=\"fill:rgb(0%,0%,0%);fill-opacity:1;\">\n",
       "  <use xlink:href=\"#glyph-1536008871730493-0-5\" x=\"45.84\" y=\"65.727\"/>\n",
       "</g>\n",
       "</g>\n",
       "</svg>\n",
       "\n"
      ],
      "text/plain": [
       "TreeView.LabelledTree({5, 4} directed simple Int64 graph, Any[:+, 2, :/, 8, 7])"
      ]
     },
     "execution_count": 15,
     "metadata": {},
     "output_type": "execute_result"
    }
   ],
   "source": [
    "display(results_ce.tree, grammar)"
   ]
  },
  {
   "cell_type": "markdown",
   "metadata": {},
   "source": [
    "## PIPE\n",
    "\n",
    "Probabilistic Incremental Program Evolution (PIPE) is an expression tree optimization algorithm based on the probabilistic prototype tree (PPT) model.\n",
    "\n",
    "See: Salustowicz and Schmidhuber, \"Probabilistic Incremental Program Evolution\", Evolutionary Computation, vol. 5, no. 2, pp. 123-141, 1997."
   ]
  },
  {
   "cell_type": "code",
   "execution_count": 16,
   "metadata": {},
   "outputs": [
    {
     "name": "stdout",
     "output_type": "stream",
     "text": [
      "search: \u001b[0m\u001b[1mP\u001b[22m\u001b[0m\u001b[1mI\u001b[22m\u001b[0m\u001b[1mP\u001b[22m\u001b[0m\u001b[1mE\u001b[22m \u001b[0m\u001b[1mP\u001b[22m\u001b[0m\u001b[1mI\u001b[22m\u001b[0m\u001b[1mP\u001b[22m\u001b[0m\u001b[1mE\u001b[22ms \u001b[0m\u001b[1mP\u001b[22m\u001b[0m\u001b[1mi\u001b[22m\u001b[0m\u001b[1mp\u001b[22m\u001b[0m\u001b[1me\u001b[22m \u001b[0m\u001b[1mp\u001b[22m\u001b[0m\u001b[1mi\u001b[22m\u001b[0m\u001b[1mp\u001b[22m\u001b[0m\u001b[1me\u001b[22mline \u001b[0m\u001b[1mP\u001b[22m\u001b[0m\u001b[1mi\u001b[22m\u001b[0m\u001b[1mp\u001b[22m\u001b[0m\u001b[1me\u001b[22mBuffer \u001b[0m\u001b[1mp\u001b[22mart\u001b[0m\u001b[1mi\u001b[22malsort\u001b[0m\u001b[1mp\u001b[22m\u001b[0m\u001b[1me\u001b[22mrm \u001b[0m\u001b[1mp\u001b[22mart\u001b[0m\u001b[1mi\u001b[22malsort\u001b[0m\u001b[1mp\u001b[22m\u001b[0m\u001b[1me\u001b[22mrm!\n",
      "\n"
     ]
    },
    {
     "data": {
      "text/markdown": [
       "```\n",
       "PIPE\n",
       "```\n",
       "\n",
       "Probabilistic Incremental Program Evolution. Example parameters from paper are indicated in parentheses)\n",
       "\n",
       "# Arguments:\n",
       "\n",
       "  * `ppt_params::PPT`: parameters for PPT  (e.g., [0.8, 0.2])\n",
       "  * `pop_size::Int`: population size\n",
       "  * `iterations::Int`: number of iterations\n",
       "  * `p_elitist::Float64`: elitist update probability (e.g., 0.2)\n",
       "  * `c::Float64`: learning rate multiplier (e.g., 0.1)\n",
       "  * `α::Float64`: learning rate (e.g., 0.05)\n",
       "  * `ϵ::Float64`: fitness constant (e.g., 1)\n",
       "  * `p_mutation::Float64`: mutation probability (e.g., 0.2)\n",
       "  * `β::Float64`: mutation rate (e.g., 0.6)\n",
       "  * `p_threshold::Float64`: prune threshold (e.g., 0.999)\n",
       "  * `max_depth::Int`: maximum depth of derivation tree\n"
      ],
      "text/plain": [
       "\u001b[36m  PIPE\u001b[39m\n",
       "\n",
       "  Probabilistic Incremental Program Evolution. Example parameters from paper\n",
       "  are indicated in parentheses)\n",
       "\n",
       "\u001b[1m  Arguments:\u001b[22m\n",
       "\u001b[1m  ≡≡≡≡≡≡≡≡≡≡≡≡\u001b[22m\n",
       "\n",
       "    •    \u001b[36mppt_params::PPT\u001b[39m: parameters for PPT (e.g., [0.8, 0.2])\n",
       "\n",
       "    •    \u001b[36mpop_size::Int\u001b[39m: population size \n",
       "\n",
       "    •    \u001b[36miterations::Int\u001b[39m: number of iterations\n",
       "\n",
       "    •    \u001b[36mp_elitist::Float64\u001b[39m: elitist update probability (e.g., 0.2)\n",
       "\n",
       "    •    \u001b[36mc::Float64\u001b[39m: learning rate multiplier (e.g., 0.1)\n",
       "\n",
       "    •    \u001b[36mα::Float64\u001b[39m: learning rate (e.g., 0.05) \n",
       "\n",
       "    •    \u001b[36mϵ::Float64\u001b[39m: fitness constant (e.g., 1)\n",
       "\n",
       "    •    \u001b[36mp_mutation::Float64\u001b[39m: mutation probability (e.g., 0.2)\n",
       "\n",
       "    •    \u001b[36mβ::Float64\u001b[39m: mutation rate (e.g., 0.6)\n",
       "\n",
       "    •    \u001b[36mp_threshold::Float64\u001b[39m: prune threshold (e.g., 0.999)\n",
       "\n",
       "    •    \u001b[36mmax_depth::Int\u001b[39m: maximum depth of derivation tree"
      ]
     },
     "execution_count": 16,
     "metadata": {},
     "output_type": "execute_result"
    }
   ],
   "source": [
    "?PIPE"
   ]
  },
  {
   "cell_type": "code",
   "execution_count": 17,
   "metadata": {},
   "outputs": [
    {
     "data": {
      "text/plain": [
       "(:((9 - ((2 - 9) - 6)) / 7), 3.142857142857143, 0.0012644892673496777)"
      ]
     },
     "execution_count": 17,
     "metadata": {},
     "output_type": "execute_result"
    }
   ],
   "source": [
    "Random.seed!(4)\n",
    "p = PIPE(PPT(0.8),5000,80,0.2,0.1,0.05,1,0.2,0.6,0.999,8)\n",
    "results_pipe = optimize(p, grammar, :R, loss)\n",
    "(expr, val, err) = (results_pipe.expr, eval(results_pipe.expr), abs(eval(results_pipe.expr)-π))"
   ]
  },
  {
   "cell_type": "code",
   "execution_count": 18,
   "metadata": {},
   "outputs": [
    {
     "data": {
      "image/svg+xml": [
       "<?xml version=\"1.0\" encoding=\"UTF-8\"?>\n",
       "<svg xmlns=\"http://www.w3.org/2000/svg\" xmlns:xlink=\"http://www.w3.org/1999/xlink\" width=\"54.391pt\" height=\"127.05pt\" viewBox=\"0 0 54.391 127.05\" version=\"1.1\">\n",
       "<defs>\n",
       "<g>\n",
       "<symbol overflow=\"visible\" id=\"glyph-1536008871730494-0-0\">\n",
       "<path style=\"stroke:none;\" d=\"\"/>\n",
       "</symbol>\n",
       "<symbol overflow=\"visible\" id=\"glyph-1536008871730494-0-1\">\n",
       "<path style=\"stroke:none;\" d=\"M 4.640625 -6.5625 C 4.640625 -6.75 4.5 -6.921875 4.296875 -6.921875 C 4.078125 -6.921875 4 -6.765625 3.953125 -6.640625 L 0.65625 0.234375 C 0.59375 0.40625 0.578125 0.40625 0.578125 0.484375 C 0.578125 0.65625 0.734375 0.828125 0.921875 0.828125 C 1.140625 0.828125 1.21875 0.671875 1.28125 0.546875 L 4.5625 -6.328125 C 4.640625 -6.484375 4.640625 -6.484375 4.640625 -6.5625 Z M 4.640625 -6.5625 \"/>\n",
       "</symbol>\n",
       "<symbol overflow=\"visible\" id=\"glyph-1536008871730494-0-2\">\n",
       "<path style=\"stroke:none;\" d=\"M 4.671875 -3.046875 C 4.671875 -3.40625 4.3125 -3.40625 4.203125 -3.40625 L 1.03125 -3.40625 C 0.90625 -3.40625 0.5625 -3.40625 0.5625 -3.046875 C 0.5625 -2.703125 0.90625 -2.703125 1.03125 -2.703125 L 4.203125 -2.703125 C 4.3125 -2.703125 4.671875 -2.703125 4.671875 -3.046875 Z M 4.671875 -3.046875 \"/>\n",
       "</symbol>\n",
       "<symbol overflow=\"visible\" id=\"glyph-1536008871730494-0-3\">\n",
       "<path style=\"stroke:none;\" d=\"M 4.6875 -3.109375 C 4.6875 -5.515625 3.59375 -6.203125 2.640625 -6.203125 C 1.53125 -6.203125 0.53125 -5.375 0.53125 -4.171875 C 0.53125 -3.03125 1.40625 -2.140625 2.5 -2.140625 C 3.015625 -2.140625 3.53125 -2.3125 3.984375 -2.71875 C 3.890625 -1.484375 3.109375 -0.5 2.15625 -0.5 C 2.0625 -0.5 1.703125 -0.515625 1.5 -0.671875 C 1.53125 -0.71875 1.578125 -0.78125 1.578125 -0.953125 C 1.578125 -1.1875 1.40625 -1.390625 1.140625 -1.390625 C 0.890625 -1.390625 0.703125 -1.21875 0.703125 -0.921875 C 0.703125 -0.59375 0.875 0.109375 2.15625 0.109375 C 3.46875 0.109375 4.6875 -1.140625 4.6875 -3.109375 Z M 3.921875 -3.875 C 3.921875 -3.328125 3.375 -2.765625 2.546875 -2.765625 C 1.75 -2.765625 1.21875 -3.421875 1.21875 -4.171875 C 1.21875 -5.03125 1.921875 -5.59375 2.640625 -5.59375 C 3.078125 -5.59375 3.34375 -5.359375 3.515625 -5.15625 C 3.828125 -4.78125 3.921875 -4.578125 3.921875 -3.875 Z M 3.921875 -3.875 \"/>\n",
       "</symbol>\n",
       "<symbol overflow=\"visible\" id=\"glyph-1536008871730494-0-4\">\n",
       "<path style=\"stroke:none;\" d=\"M 4.703125 -0.40625 L 4.703125 -0.671875 C 4.703125 -0.859375 4.703125 -1.078125 4.359375 -1.078125 C 4.015625 -1.078125 4.015625 -0.890625 4.015625 -0.609375 L 1.640625 -0.609375 C 2.234375 -1.109375 3.1875 -1.859375 3.625 -2.265625 C 4.25 -2.828125 4.703125 -3.453125 4.703125 -4.25 C 4.703125 -5.453125 3.703125 -6.203125 2.484375 -6.203125 C 1.3125 -6.203125 0.515625 -5.390625 0.515625 -4.53125 C 0.515625 -4.171875 0.796875 -4.0625 0.96875 -4.0625 C 1.171875 -4.0625 1.40625 -4.234375 1.40625 -4.5 C 1.40625 -4.625 1.359375 -4.75 1.265625 -4.828125 C 1.421875 -5.28125 1.890625 -5.59375 2.4375 -5.59375 C 3.25 -5.59375 4.015625 -5.140625 4.015625 -4.25 C 4.015625 -3.5625 3.53125 -2.984375 2.875 -2.4375 L 0.671875 -0.578125 C 0.578125 -0.5 0.515625 -0.453125 0.515625 -0.3125 C 0.515625 0 0.765625 0 0.921875 0 L 4.3125 0 C 4.640625 0 4.703125 -0.09375 4.703125 -0.40625 Z M 4.703125 -0.40625 \"/>\n",
       "</symbol>\n",
       "<symbol overflow=\"visible\" id=\"glyph-1536008871730494-0-5\">\n",
       "<path style=\"stroke:none;\" d=\"M 4.6875 -1.921875 C 4.6875 -3.0625 3.8125 -3.953125 2.71875 -3.953125 C 2.203125 -3.953125 1.6875 -3.78125 1.234375 -3.375 C 1.375 -4.78125 2.3125 -5.59375 3.1875 -5.59375 C 3.53125 -5.59375 3.6875 -5.484375 3.734375 -5.4375 C 3.6875 -5.390625 3.640625 -5.328125 3.640625 -5.140625 C 3.640625 -4.90625 3.8125 -4.703125 4.078125 -4.703125 C 4.328125 -4.703125 4.53125 -4.875 4.53125 -5.171875 C 4.53125 -5.65625 4.171875 -6.203125 3.203125 -6.203125 C 1.859375 -6.203125 0.53125 -5 0.53125 -2.984375 C 0.53125 -0.625 1.640625 0.109375 2.625 0.109375 C 3.71875 0.109375 4.6875 -0.734375 4.6875 -1.921875 Z M 4 -1.921875 C 4 -1.0625 3.34375 -0.5 2.625 -0.5 C 1.984375 -0.5 1.59375 -0.984375 1.390625 -1.59375 C 1.296875 -1.828125 1.3125 -2.078125 1.3125 -2.21875 C 1.3125 -2.828125 1.90625 -3.328125 2.671875 -3.328125 C 3.484375 -3.328125 4 -2.65625 4 -1.921875 Z M 4 -1.921875 \"/>\n",
       "</symbol>\n",
       "<symbol overflow=\"visible\" id=\"glyph-1536008871730494-0-6\">\n",
       "<path style=\"stroke:none;\" d=\"M 4.78125 -5.78125 C 4.78125 -6.09375 4.546875 -6.09375 4.390625 -6.09375 L 1.09375 -6.09375 C 1.03125 -6.25 0.859375 -6.25 0.78125 -6.25 C 0.4375 -6.25 0.4375 -6.03125 0.4375 -5.84375 L 0.4375 -5.421875 C 0.4375 -5.234375 0.4375 -5.015625 0.78125 -5.015625 C 1.125 -5.015625 1.125 -5.203125 1.125 -5.484375 L 3.765625 -5.484375 C 2.03125 -3.65625 1.6875 -1.453125 1.6875 -0.359375 C 1.6875 -0.21875 1.6875 0.109375 2.046875 0.109375 C 2.21875 0.109375 2.375 0 2.375 -0.296875 C 2.4375 -3.125 3.953125 -4.859375 4.5625 -5.4375 C 4.765625 -5.625 4.78125 -5.640625 4.78125 -5.78125 Z M 4.78125 -5.78125 \"/>\n",
       "</symbol>\n",
       "</g>\n",
       "</defs>\n",
       "<g id=\"surface1\">\n",
       "<path style=\"fill:none;stroke-width:0.3985;stroke-linecap:butt;stroke-linejoin:miter;stroke:rgb(0%,0%,0%);stroke-opacity:1;stroke-miterlimit:10;\" d=\"M -3.696063 -7.391031 L -11.360125 -22.71525 \" transform=\"matrix(1,0,0,-1,34.282,7.191)\"/>\n",
       "<path style=\"fill:none;stroke-width:0.31879;stroke-linecap:round;stroke-linejoin:round;stroke:rgb(0%,0%,0%);stroke-opacity:1;stroke-miterlimit:10;\" d=\"M -1.194215 1.593395 C -1.095051 0.994832 0.0011257 0.0987017 0.298663 -0.000486274 C -0.000619552 -0.0979183 -1.095104 -0.99747 -1.19604 -1.596027 \" transform=\"matrix(-0.44897,0.898,0.898,0.44897,22.92359,29.9078)\"/>\n",
       "<path style=\"fill:none;stroke-width:0.3985;stroke-linecap:butt;stroke-linejoin:miter;stroke:rgb(0%,0%,0%);stroke-opacity:1;stroke-miterlimit:10;\" d=\"M 3.694562 -7.391031 L 10.620344 -21.238687 \" transform=\"matrix(1,0,0,-1,34.282,7.191)\"/>\n",
       "<path style=\"fill:none;stroke-width:0.31879;stroke-linecap:round;stroke-linejoin:round;stroke:rgb(0%,0%,0%);stroke-opacity:1;stroke-miterlimit:10;\" d=\"M -1.194799 1.594098 C -1.096964 0.994895 0.00187519 0.100466 0.300605 -0.000854295 C -0.00161693 -0.0986862 -1.096947 -0.996628 -1.19477 -1.594086 \" transform=\"matrix(0.4472,0.89442,0.89442,-0.4472,44.90149,28.42997)\"/>\n",
       "<path style=\"fill:none;stroke-width:0.3985;stroke-linecap:butt;stroke-linejoin:miter;stroke:rgb(0%,0%,0%);stroke-opacity:1;stroke-miterlimit:10;\" d=\"M -16.782 -33.566812 L -24.805438 -49.609781 \" transform=\"matrix(1,0,0,-1,34.282,7.191)\"/>\n",
       "<path style=\"fill:none;stroke-width:0.31879;stroke-linecap:round;stroke-linejoin:round;stroke:rgb(0%,0%,0%);stroke-opacity:1;stroke-miterlimit:10;\" d=\"M -1.195664 1.594447 C -1.097831 0.996996 0.000999183 0.100829 0.299726 0.001256 C 0.00100098 -0.100069 -1.096066 -0.998003 -1.195636 -1.593708 \" transform=\"matrix(-0.44722,0.89442,0.89442,0.44722,9.47667,56.80167)\"/>\n",
       "<path style=\"fill:none;stroke-width:0.3985;stroke-linecap:butt;stroke-linejoin:miter;stroke:rgb(0%,0%,0%);stroke-opacity:1;stroke-miterlimit:10;\" d=\"M -11.56325 -33.566812 L -2.81325 -51.066812 \" transform=\"matrix(1,0,0,-1,34.282,7.191)\"/>\n",
       "<path style=\"fill:none;stroke-width:0.31879;stroke-linecap:round;stroke-linejoin:round;stroke:rgb(0%,0%,0%);stroke-opacity:1;stroke-miterlimit:10;\" d=\"M -1.196551 1.595086 C -1.095235 0.99414 0.0000853192 0.101446 0.29881 0.00012143 C 0.0000835223 -0.0994512 -1.095252 -0.997366 -1.19658 -1.593069 \" transform=\"matrix(0.44722,0.89442,0.89442,-0.44722,31.46782,58.25623)\"/>\n",
       "<path style=\"fill:none;stroke-width:0.3985;stroke-linecap:butt;stroke-linejoin:miter;stroke:rgb(0%,0%,0%);stroke-opacity:1;stroke-miterlimit:10;\" d=\"M -2.610125 -61.910562 L -11.360125 -79.410562 \" transform=\"matrix(1,0,0,-1,34.282,7.191)\"/>\n",
       "<path style=\"fill:none;stroke-width:0.31879;stroke-linecap:round;stroke-linejoin:round;stroke:rgb(0%,0%,0%);stroke-opacity:1;stroke-miterlimit:10;\" d=\"M -1.19583 1.593439 C -1.094502 0.997735 0.000833723 0.0998207 0.29956 0.000248089 C 0.000835519 -0.101077 -1.097978 -0.995517 -1.195801 -1.594716 \" transform=\"matrix(-0.44722,0.89442,0.89442,0.44722,22.92281,86.60305)\"/>\n",
       "<path style=\"fill:none;stroke-width:0.3985;stroke-linecap:butt;stroke-linejoin:miter;stroke:rgb(0%,0%,0%);stroke-opacity:1;stroke-miterlimit:10;\" d=\"M 2.608625 -61.910562 L 10.632062 -77.957437 \" transform=\"matrix(1,0,0,-1,34.282,7.191)\"/>\n",
       "<path style=\"fill:none;stroke-width:0.31879;stroke-linecap:round;stroke-linejoin:round;stroke:rgb(0%,0%,0%);stroke-opacity:1;stroke-miterlimit:10;\" d=\"M -1.194877 1.593357 C -1.095307 0.997651 0.00176012 0.0997172 0.296991 0.000139334 C -0.00173553 -0.0994333 -1.097071 -0.997348 -1.194905 -1.594798 \" transform=\"matrix(0.44722,0.89442,0.89442,-0.44722,44.91393,85.14849)\"/>\n",
       "<path style=\"fill:none;stroke-width:0.3985;stroke-linecap:butt;stroke-linejoin:miter;stroke:rgb(0%,0%,0%);stroke-opacity:1;stroke-miterlimit:10;\" d=\"M -16.782 -90.258219 L -24.832781 -106.359781 \" transform=\"matrix(1,0,0,-1,34.282,7.191)\"/>\n",
       "<path style=\"fill:none;stroke-width:0.31879;stroke-linecap:round;stroke-linejoin:round;stroke:rgb(0%,0%,0%);stroke-opacity:1;stroke-miterlimit:10;\" d=\"M -1.194294 1.595168 C -1.096451 0.997724 -0.00110841 0.0998376 0.297617 0.000271281 C -0.00110302 -0.101058 -1.09465 -0.997257 -1.194208 -1.592959 \" transform=\"matrix(-0.44724,0.89442,0.89442,0.44724,9.44927,113.55009)\"/>\n",
       "<path style=\"fill:none;stroke-width:0.3985;stroke-linecap:butt;stroke-linejoin:miter;stroke:rgb(0%,0%,0%);stroke-opacity:1;stroke-miterlimit:10;\" d=\"M -11.56325 -90.258219 L -3.539813 -106.305094 \" transform=\"matrix(1,0,0,-1,34.282,7.191)\"/>\n",
       "<path style=\"fill:none;stroke-width:0.31879;stroke-linecap:round;stroke-linejoin:round;stroke:rgb(0%,0%,0%);stroke-opacity:1;stroke-miterlimit:10;\" d=\"M -1.193433 1.594329 C -1.09561 0.99513 -0.0020373 0.0989425 0.298435 0.00111146 C -0.00029213 -0.0984611 -1.095628 -0.996376 -1.193462 -1.593826 \" transform=\"matrix(0.44722,0.89442,0.89442,-0.44722,30.74054,113.49529)\"/>\n",
       "<g style=\"fill:rgb(0%,0%,0%);fill-opacity:1;\">\n",
       "  <use xlink:href=\"#glyph-1536008871730494-0-1\" x=\"31.667\" y=\"10.234\"/>\n",
       "</g>\n",
       "<g style=\"fill:rgb(0%,0%,0%);fill-opacity:1;\">\n",
       "  <use xlink:href=\"#glyph-1536008871730494-0-2\" x=\"17.494\" y=\"37.236\"/>\n",
       "</g>\n",
       "<g style=\"fill:rgb(0%,0%,0%);fill-opacity:1;\">\n",
       "  <use xlink:href=\"#glyph-1536008871730494-0-3\" x=\"3.321\" y=\"66.927\"/>\n",
       "</g>\n",
       "<g style=\"fill:rgb(0%,0%,0%);fill-opacity:1;\">\n",
       "  <use xlink:href=\"#glyph-1536008871730494-0-2\" x=\"31.667\" y=\"65.582\"/>\n",
       "</g>\n",
       "<g style=\"fill:rgb(0%,0%,0%);fill-opacity:1;\">\n",
       "  <use xlink:href=\"#glyph-1536008871730494-0-2\" x=\"17.494\" y=\"93.928\"/>\n",
       "</g>\n",
       "<g style=\"fill:rgb(0%,0%,0%);fill-opacity:1;\">\n",
       "  <use xlink:href=\"#glyph-1536008871730494-0-4\" x=\"3.321\" y=\"123.675\"/>\n",
       "</g>\n",
       "<g style=\"fill:rgb(0%,0%,0%);fill-opacity:1;\">\n",
       "  <use xlink:href=\"#glyph-1536008871730494-0-3\" x=\"31.667\" y=\"123.62\"/>\n",
       "</g>\n",
       "<g style=\"fill:rgb(0%,0%,0%);fill-opacity:1;\">\n",
       "  <use xlink:href=\"#glyph-1536008871730494-0-5\" x=\"45.84\" y=\"95.273\"/>\n",
       "</g>\n",
       "<g style=\"fill:rgb(0%,0%,0%);fill-opacity:1;\">\n",
       "  <use xlink:href=\"#glyph-1536008871730494-0-6\" x=\"45.84\" y=\"38.605\"/>\n",
       "</g>\n",
       "</g>\n",
       "</svg>\n",
       "\n"
      ],
      "text/plain": [
       "TreeView.LabelledTree({9, 8} directed simple Int64 graph, Any[:/, :-, 9, :-, :-, 2, 9, 6, 7])"
      ]
     },
     "execution_count": 18,
     "metadata": {},
     "output_type": "execute_result"
    }
   ],
   "source": [
    "display(results_pipe.tree, grammar)"
   ]
  },
  {
   "cell_type": "code",
   "execution_count": null,
   "metadata": {},
   "outputs": [],
   "source": []
  }
 ],
 "metadata": {
  "kernelspec": {
   "display_name": "Julia 0.7.0",
   "language": "julia",
   "name": "julia-0.7"
  },
  "language_info": {
   "file_extension": ".jl",
   "mimetype": "application/julia",
   "name": "julia",
   "version": "0.7.0"
  }
 },
 "nbformat": 4,
 "nbformat_minor": 2
}
